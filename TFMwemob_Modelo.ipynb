{
 "cells": [
  {
   "cell_type": "code",
   "execution_count": 1,
   "metadata": {},
   "outputs": [],
   "source": [
    "# Tratamiento de datos\n",
    "# ------------------------------------------------------------------------------\n",
    "import numpy as np\n",
    "import pandas as pd\n",
    "\n",
    "\n",
    "# Gráficos\n",
    "# ------------------------------------------------------------------------------\n",
    "import matplotlib.pyplot as plt\n",
    "from matplotlib import style\n",
    "import matplotlib.ticker as ticker\n",
    "import seaborn as sns\n",
    "\n",
    "# Preprocesado y modelado\n",
    "# ------------------------------------------------------------------------------\n",
    "from sklearn.model_selection import train_test_split\n",
    "from sklearn.model_selection import GridSearchCV\n",
    "from sklearn.model_selection import RepeatedKFold\n",
    "from sklearn.neighbors import KNeighborsClassifier\n",
    "from sklearn.datasets import make_blobs\n",
    "from sklearn.metrics import euclidean_distances\n",
    "from sklearn.neighbors import KNeighborsClassifier\n",
    "from sklearn.ensemble import RandomForestClassifier\n",
    "from sklearn.linear_model import Ridge\n",
    "\n",
    "\n",
    "\n"
   ]
  },
  {
   "cell_type": "code",
   "execution_count": 2,
   "metadata": {},
   "outputs": [],
   "source": [
    "pd.options.display.max_columns = None"
   ]
  },
  {
   "cell_type": "code",
   "execution_count": 3,
   "metadata": {},
   "outputs": [],
   "source": [
    "df = pd.read_excel('C:/Users/Equipo/Desktop/BIG DATA/TFM/WEMOB/MODELO/TOP1_OK.xlsx',index_col=0)"
   ]
  },
  {
   "cell_type": "code",
   "execution_count": 4,
   "metadata": {},
   "outputs": [],
   "source": [
    "wemobDF = df.copy()"
   ]
  },
  {
   "cell_type": "code",
   "execution_count": 5,
   "metadata": {},
   "outputs": [
    {
     "data": {
      "text/plain": [
       "(2541, 42)"
      ]
     },
     "execution_count": 5,
     "metadata": {},
     "output_type": "execute_result"
    }
   ],
   "source": [
    "wemobDF.shape"
   ]
  },
  {
   "cell_type": "code",
   "execution_count": 6,
   "metadata": {},
   "outputs": [
    {
     "data": {
      "text/plain": [
       "Index(['DCRUTA', 'CONDUCTOR', 'LATa', 'LONGa', 'LATc', 'LONGc', 'TMPa', 'TMPc',\n",
       "       'MTR', 'COND', 'CS1', 'CS1hrssum', 'CS1hrsmean', 'CS1rept', 'CS2',\n",
       "       'CS2hrssum', 'CS2hrsmean', 'CS2rept', 'CS3', 'CS3hrssum', 'CS3hrsmean',\n",
       "       'CS3rept', 'ODOa', 'ODOc', 'ODOf', 'CTa', 'CTc', 'CTf', 'ALTf', 'VELCa',\n",
       "       'HMf', 'CCf', 'TMa', 'RPMa', 'NFa', 'FRNf', 'TRa', 'PMf', 'PDLf',\n",
       "       'EMBf', 'TIME_RUTA', 'TDsts'],\n",
       "      dtype='object')"
      ]
     },
     "execution_count": 6,
     "metadata": {},
     "output_type": "execute_result"
    }
   ],
   "source": [
    "wemobDF.columns"
   ]
  },
  {
   "cell_type": "code",
   "execution_count": 7,
   "metadata": {},
   "outputs": [],
   "source": [
    "# De primeras nos quedamos con las variables finales que ya se ha ralizado el feature engineering\n",
    "# Hay que meter CC -control crucero- y quizas horas motor la diferencia, frenadas la diferencia, pedal la diferencia\n",
    "datos = wemobDF[['MTR', 'CONDUCTOR', 'CS1hrssum', 'CS1rept', 'CS2hrssum', 'CS2rept', 'HMf', 'ODOf', 'CTf', 'FRNf', 'PDLf', \n",
    "                 'EMBf', 'CCf', 'TIME_RUTA']]"
   ]
  },
  {
   "cell_type": "code",
   "execution_count": 8,
   "metadata": {},
   "outputs": [],
   "source": [
    "datos.columns = ['Matricula', 'Conductor', 'TiempoParadaTotal', 'NumeroDeParadasTotal', 'TiempoRalenti', \n",
    "                 'NumeroDeParadasRalenti', 'HorasMotor', 'DistanciaRecorrida', 'ConsumoCombustible', 'Frenadas', \n",
    "                 'PedalAcelerador', 'Embrague', 'ControlCrucero','TIME_RUTA']"
   ]
  },
  {
   "cell_type": "code",
   "execution_count": 9,
   "metadata": {},
   "outputs": [
    {
     "data": {
      "text/plain": [
       "Matricula                 0\n",
       "Conductor                 0\n",
       "TiempoParadaTotal         0\n",
       "NumeroDeParadasTotal      0\n",
       "TiempoRalenti             0\n",
       "NumeroDeParadasRalenti    0\n",
       "HorasMotor                0\n",
       "DistanciaRecorrida        0\n",
       "ConsumoCombustible        0\n",
       "Frenadas                  0\n",
       "PedalAcelerador           0\n",
       "Embrague                  0\n",
       "ControlCrucero            0\n",
       "TIME_RUTA                 0\n",
       "dtype: int64"
      ]
     },
     "execution_count": 9,
     "metadata": {},
     "output_type": "execute_result"
    }
   ],
   "source": [
    "datos.isna().sum()"
   ]
  },
  {
   "cell_type": "code",
   "execution_count": 10,
   "metadata": {},
   "outputs": [
    {
     "name": "stdout",
     "output_type": "stream",
     "text": [
      "<class 'pandas.core.frame.DataFrame'>\n",
      "Int64Index: 2541 entries, 962 to 28331\n",
      "Data columns (total 14 columns):\n",
      " #   Column                  Non-Null Count  Dtype  \n",
      "---  ------                  --------------  -----  \n",
      " 0   Matricula               2541 non-null   int64  \n",
      " 1   Conductor               2541 non-null   int64  \n",
      " 2   TiempoParadaTotal       2541 non-null   float64\n",
      " 3   NumeroDeParadasTotal    2541 non-null   int64  \n",
      " 4   TiempoRalenti           2541 non-null   float64\n",
      " 5   NumeroDeParadasRalenti  2541 non-null   int64  \n",
      " 6   HorasMotor              2541 non-null   int64  \n",
      " 7   DistanciaRecorrida      2541 non-null   float64\n",
      " 8   ConsumoCombustible      2541 non-null   float64\n",
      " 9   Frenadas                2541 non-null   int64  \n",
      " 10  PedalAcelerador         2541 non-null   int64  \n",
      " 11  Embrague                2541 non-null   int64  \n",
      " 12  ControlCrucero          2541 non-null   float64\n",
      " 13  TIME_RUTA               2541 non-null   float64\n",
      "dtypes: float64(6), int64(8)\n",
      "memory usage: 297.8 KB\n"
     ]
    }
   ],
   "source": [
    "datos.info()"
   ]
  },
  {
   "cell_type": "code",
   "execution_count": 11,
   "metadata": {},
   "outputs": [
    {
     "data": {
      "text/html": [
       "<div>\n",
       "<style scoped>\n",
       "    .dataframe tbody tr th:only-of-type {\n",
       "        vertical-align: middle;\n",
       "    }\n",
       "\n",
       "    .dataframe tbody tr th {\n",
       "        vertical-align: top;\n",
       "    }\n",
       "\n",
       "    .dataframe thead th {\n",
       "        text-align: right;\n",
       "    }\n",
       "</style>\n",
       "<table border=\"1\" class=\"dataframe\">\n",
       "  <thead>\n",
       "    <tr style=\"text-align: right;\">\n",
       "      <th></th>\n",
       "      <th>Matricula</th>\n",
       "      <th>Conductor</th>\n",
       "      <th>TiempoParadaTotal</th>\n",
       "      <th>NumeroDeParadasTotal</th>\n",
       "      <th>TiempoRalenti</th>\n",
       "      <th>NumeroDeParadasRalenti</th>\n",
       "      <th>HorasMotor</th>\n",
       "      <th>DistanciaRecorrida</th>\n",
       "      <th>ConsumoCombustible</th>\n",
       "      <th>Frenadas</th>\n",
       "      <th>PedalAcelerador</th>\n",
       "      <th>Embrague</th>\n",
       "      <th>ControlCrucero</th>\n",
       "      <th>TIME_RUTA</th>\n",
       "    </tr>\n",
       "  </thead>\n",
       "  <tbody>\n",
       "    <tr>\n",
       "      <th>count</th>\n",
       "      <td>2541.000000</td>\n",
       "      <td>2541.000000</td>\n",
       "      <td>2541.000000</td>\n",
       "      <td>2541.000000</td>\n",
       "      <td>2541.000000</td>\n",
       "      <td>2541.000000</td>\n",
       "      <td>2541.000000</td>\n",
       "      <td>2541.000000</td>\n",
       "      <td>2541.000000</td>\n",
       "      <td>2541.000000</td>\n",
       "      <td>2541.000000</td>\n",
       "      <td>2541.000000</td>\n",
       "      <td>2541.000000</td>\n",
       "      <td>2541.000000</td>\n",
       "    </tr>\n",
       "    <tr>\n",
       "      <th>mean</th>\n",
       "      <td>64.924046</td>\n",
       "      <td>153.577725</td>\n",
       "      <td>0.689569</td>\n",
       "      <td>7.938213</td>\n",
       "      <td>1.313791</td>\n",
       "      <td>25.419520</td>\n",
       "      <td>7.151515</td>\n",
       "      <td>442.414829</td>\n",
       "      <td>141.233963</td>\n",
       "      <td>4.074380</td>\n",
       "      <td>78.443920</td>\n",
       "      <td>21.562377</td>\n",
       "      <td>0.003854</td>\n",
       "      <td>9.968636</td>\n",
       "    </tr>\n",
       "    <tr>\n",
       "      <th>std</th>\n",
       "      <td>34.997336</td>\n",
       "      <td>95.478966</td>\n",
       "      <td>1.467626</td>\n",
       "      <td>6.835621</td>\n",
       "      <td>1.430572</td>\n",
       "      <td>20.540672</td>\n",
       "      <td>8.145543</td>\n",
       "      <td>599.165585</td>\n",
       "      <td>194.118819</td>\n",
       "      <td>7.344582</td>\n",
       "      <td>90.620184</td>\n",
       "      <td>13683.046900</td>\n",
       "      <td>0.046333</td>\n",
       "      <td>9.639188</td>\n",
       "    </tr>\n",
       "    <tr>\n",
       "      <th>min</th>\n",
       "      <td>3.000000</td>\n",
       "      <td>1.000000</td>\n",
       "      <td>0.000000</td>\n",
       "      <td>1.000000</td>\n",
       "      <td>0.000000</td>\n",
       "      <td>1.000000</td>\n",
       "      <td>0.000000</td>\n",
       "      <td>0.010000</td>\n",
       "      <td>0.000000</td>\n",
       "      <td>0.000000</td>\n",
       "      <td>0.000000</td>\n",
       "      <td>-226602.000000</td>\n",
       "      <td>0.000000</td>\n",
       "      <td>0.033333</td>\n",
       "    </tr>\n",
       "    <tr>\n",
       "      <th>25%</th>\n",
       "      <td>48.000000</td>\n",
       "      <td>79.000000</td>\n",
       "      <td>0.000000</td>\n",
       "      <td>2.000000</td>\n",
       "      <td>0.216667</td>\n",
       "      <td>7.000000</td>\n",
       "      <td>1.000000</td>\n",
       "      <td>4.505000</td>\n",
       "      <td>2.500000</td>\n",
       "      <td>0.000000</td>\n",
       "      <td>10.000000</td>\n",
       "      <td>65.000000</td>\n",
       "      <td>0.000000</td>\n",
       "      <td>1.885278</td>\n",
       "    </tr>\n",
       "    <tr>\n",
       "      <th>50%</th>\n",
       "      <td>65.000000</td>\n",
       "      <td>132.000000</td>\n",
       "      <td>0.219444</td>\n",
       "      <td>6.000000</td>\n",
       "      <td>0.930833</td>\n",
       "      <td>23.000000</td>\n",
       "      <td>3.000000</td>\n",
       "      <td>56.835000</td>\n",
       "      <td>19.000000</td>\n",
       "      <td>2.000000</td>\n",
       "      <td>47.000000</td>\n",
       "      <td>244.000000</td>\n",
       "      <td>0.000000</td>\n",
       "      <td>5.972778</td>\n",
       "    </tr>\n",
       "    <tr>\n",
       "      <th>75%</th>\n",
       "      <td>95.000000</td>\n",
       "      <td>242.000000</td>\n",
       "      <td>0.965000</td>\n",
       "      <td>12.000000</td>\n",
       "      <td>1.883333</td>\n",
       "      <td>38.000000</td>\n",
       "      <td>16.000000</td>\n",
       "      <td>1055.225000</td>\n",
       "      <td>333.000000</td>\n",
       "      <td>5.000000</td>\n",
       "      <td>116.000000</td>\n",
       "      <td>776.000000</td>\n",
       "      <td>0.001063</td>\n",
       "      <td>19.974444</td>\n",
       "    </tr>\n",
       "    <tr>\n",
       "      <th>max</th>\n",
       "      <td>124.000000</td>\n",
       "      <td>291.000000</td>\n",
       "      <td>48.150000</td>\n",
       "      <td>74.000000</td>\n",
       "      <td>15.596667</td>\n",
       "      <td>160.000000</td>\n",
       "      <td>75.000000</td>\n",
       "      <td>5560.945000</td>\n",
       "      <td>1792.000000</td>\n",
       "      <td>139.000000</td>\n",
       "      <td>1034.000000</td>\n",
       "      <td>207161.000000</td>\n",
       "      <td>1.000000</td>\n",
       "      <td>93.526111</td>\n",
       "    </tr>\n",
       "  </tbody>\n",
       "</table>\n",
       "</div>"
      ],
      "text/plain": [
       "         Matricula    Conductor  TiempoParadaTotal  NumeroDeParadasTotal  \\\n",
       "count  2541.000000  2541.000000        2541.000000           2541.000000   \n",
       "mean     64.924046   153.577725           0.689569              7.938213   \n",
       "std      34.997336    95.478966           1.467626              6.835621   \n",
       "min       3.000000     1.000000           0.000000              1.000000   \n",
       "25%      48.000000    79.000000           0.000000              2.000000   \n",
       "50%      65.000000   132.000000           0.219444              6.000000   \n",
       "75%      95.000000   242.000000           0.965000             12.000000   \n",
       "max     124.000000   291.000000          48.150000             74.000000   \n",
       "\n",
       "       TiempoRalenti  NumeroDeParadasRalenti   HorasMotor  DistanciaRecorrida  \\\n",
       "count    2541.000000             2541.000000  2541.000000         2541.000000   \n",
       "mean        1.313791               25.419520     7.151515          442.414829   \n",
       "std         1.430572               20.540672     8.145543          599.165585   \n",
       "min         0.000000                1.000000     0.000000            0.010000   \n",
       "25%         0.216667                7.000000     1.000000            4.505000   \n",
       "50%         0.930833               23.000000     3.000000           56.835000   \n",
       "75%         1.883333               38.000000    16.000000         1055.225000   \n",
       "max        15.596667              160.000000    75.000000         5560.945000   \n",
       "\n",
       "       ConsumoCombustible     Frenadas  PedalAcelerador       Embrague  \\\n",
       "count         2541.000000  2541.000000      2541.000000    2541.000000   \n",
       "mean           141.233963     4.074380        78.443920      21.562377   \n",
       "std            194.118819     7.344582        90.620184   13683.046900   \n",
       "min              0.000000     0.000000         0.000000 -226602.000000   \n",
       "25%              2.500000     0.000000        10.000000      65.000000   \n",
       "50%             19.000000     2.000000        47.000000     244.000000   \n",
       "75%            333.000000     5.000000       116.000000     776.000000   \n",
       "max           1792.000000   139.000000      1034.000000  207161.000000   \n",
       "\n",
       "       ControlCrucero    TIME_RUTA  \n",
       "count     2541.000000  2541.000000  \n",
       "mean         0.003854     9.968636  \n",
       "std          0.046333     9.639188  \n",
       "min          0.000000     0.033333  \n",
       "25%          0.000000     1.885278  \n",
       "50%          0.000000     5.972778  \n",
       "75%          0.001063    19.974444  \n",
       "max          1.000000    93.526111  "
      ]
     },
     "execution_count": 11,
     "metadata": {},
     "output_type": "execute_result"
    }
   ],
   "source": [
    "datos.describe()"
   ]
  },
  {
   "cell_type": "markdown",
   "metadata": {},
   "source": [
    "### Outliers\n",
    "Vamos a ver boxplot para detectar outliers"
   ]
  },
  {
   "cell_type": "code",
   "execution_count": 12,
   "metadata": {},
   "outputs": [
    {
     "data": {
      "text/plain": [
       "<matplotlib.axes._subplots.AxesSubplot at 0x207efa1a1c8>"
      ]
     },
     "execution_count": 12,
     "metadata": {},
     "output_type": "execute_result"
    },
    {
     "data": {
      "image/png": "[encoded data removed]",
      "text/plain": [
       "<Figure size 432x288 with 1 Axes>"
      ]
     },
     "metadata": {
      "needs_background": "light"
     },
     "output_type": "display_data"
    }
   ],
   "source": [
    "sns.boxplot(x=datos['TiempoParadaTotal'])"
   ]
  },
  {
   "cell_type": "code",
   "execution_count": 13,
   "metadata": {},
   "outputs": [
    {
     "data": {
      "text/plain": [
       "<matplotlib.axes._subplots.AxesSubplot at 0x207efa2cd08>"
      ]
     },
     "execution_count": 13,
     "metadata": {},
     "output_type": "execute_result"
    },
    {
     "data": {
      "image/png": "[encoded data removed]",
      "text/plain": [
       "<Figure size 432x288 with 1 Axes>"
      ]
     },
     "metadata": {
      "needs_background": "light"
     },
     "output_type": "display_data"
    }
   ],
   "source": [
    "sns.boxplot(x=datos['NumeroDeParadasTotal'])"
   ]
  },
  {
   "cell_type": "code",
   "execution_count": 14,
   "metadata": {},
   "outputs": [
    {
     "data": {
      "text/plain": [
       "<matplotlib.axes._subplots.AxesSubplot at 0x207ef8842c8>"
      ]
     },
     "execution_count": 14,
     "metadata": {},
     "output_type": "execute_result"
    },
    {
     "data": {
      "image/png": "[encoded data removed]",
      "text/plain": [
       "<Figure size 432x288 with 1 Axes>"
      ]
     },
     "metadata": {
      "needs_background": "light"
     },
     "output_type": "display_data"
    }
   ],
   "source": [
    "sns.boxplot(x=datos['TiempoRalenti'])"
   ]
  },
  {
   "cell_type": "code",
   "execution_count": 15,
   "metadata": {},
   "outputs": [
    {
     "data": {
      "text/plain": [
       "<matplotlib.axes._subplots.AxesSubplot at 0x207ef695a48>"
      ]
     },
     "execution_count": 15,
     "metadata": {},
     "output_type": "execute_result"
    },
    {
     "data": {
      "image/png": "[encoded data removed]",
      "text/plain": [
       "<Figure size 432x288 with 1 Axes>"
      ]
     },
     "metadata": {
      "needs_background": "light"
     },
     "output_type": "display_data"
    }
   ],
   "source": [
    "sns.boxplot(x=datos['NumeroDeParadasRalenti'])"
   ]
  },
  {
   "cell_type": "code",
   "execution_count": 16,
   "metadata": {},
   "outputs": [
    {
     "data": {
      "text/plain": [
       "<matplotlib.axes._subplots.AxesSubplot at 0x207ef6288c8>"
      ]
     },
     "execution_count": 16,
     "metadata": {},
     "output_type": "execute_result"
    },
    {
     "data": {
      "image/png": "[encoded data removed]",
      "text/plain": [
       "<Figure size 432x288 with 1 Axes>"
      ]
     },
     "metadata": {
      "needs_background": "light"
     },
     "output_type": "display_data"
    }
   ],
   "source": [
    "sns.boxplot(x=datos['HorasMotor'])"
   ]
  },
  {
   "cell_type": "code",
   "execution_count": 17,
   "metadata": {},
   "outputs": [
    {
     "data": {
      "text/plain": [
       "<matplotlib.axes._subplots.AxesSubplot at 0x207ef6f7608>"
      ]
     },
     "execution_count": 17,
     "metadata": {},
     "output_type": "execute_result"
    },
    {
     "data": {
      "image/png": "[encoded data removed]",
      "text/plain": [
       "<Figure size 432x288 with 1 Axes>"
      ]
     },
     "metadata": {
      "needs_background": "light"
     },
     "output_type": "display_data"
    }
   ],
   "source": [
    "sns.boxplot(x=datos['DistanciaRecorrida'])"
   ]
  },
  {
   "cell_type": "code",
   "execution_count": 18,
   "metadata": {},
   "outputs": [
    {
     "data": {
      "text/plain": [
       "<matplotlib.axes._subplots.AxesSubplot at 0x207ef466108>"
      ]
     },
     "execution_count": 18,
     "metadata": {},
     "output_type": "execute_result"
    },
    {
     "data": {
      "image/png": "[encoded data removed]",
      "text/plain": [
       "<Figure size 432x288 with 1 Axes>"
      ]
     },
     "metadata": {
      "needs_background": "light"
     },
     "output_type": "display_data"
    }
   ],
   "source": [
    "sns.boxplot(x=datos['Frenadas'])"
   ]
  },
  {
   "cell_type": "code",
   "execution_count": 19,
   "metadata": {},
   "outputs": [
    {
     "data": {
      "text/plain": [
       "<matplotlib.axes._subplots.AxesSubplot at 0x207ef4bdb88>"
      ]
     },
     "execution_count": 19,
     "metadata": {},
     "output_type": "execute_result"
    },
    {
     "data": {
      "image/png": "[encoded data removed]",
      "text/plain": [
       "<Figure size 432x288 with 1 Axes>"
      ]
     },
     "metadata": {
      "needs_background": "light"
     },
     "output_type": "display_data"
    }
   ],
   "source": [
    "sns.boxplot(x=datos['PedalAcelerador'])"
   ]
  },
  {
   "cell_type": "code",
   "execution_count": 20,
   "metadata": {},
   "outputs": [
    {
     "data": {
      "text/plain": [
       "<matplotlib.axes._subplots.AxesSubplot at 0x207ef537108>"
      ]
     },
     "execution_count": 20,
     "metadata": {},
     "output_type": "execute_result"
    },
    {
     "data": {
      "image/png": "[encoded data removed]",
      "text/plain": [
       "<Figure size 432x288 with 1 Axes>"
      ]
     },
     "metadata": {
      "needs_background": "light"
     },
     "output_type": "display_data"
    }
   ],
   "source": [
    "sns.boxplot(x=datos['Embrague'])"
   ]
  },
  {
   "cell_type": "code",
   "execution_count": 21,
   "metadata": {},
   "outputs": [
    {
     "data": {
      "text/plain": [
       "<matplotlib.axes._subplots.AxesSubplot at 0x207ef596c88>"
      ]
     },
     "execution_count": 21,
     "metadata": {},
     "output_type": "execute_result"
    },
    {
     "data": {
      "image/png": "[encoded data removed]",
      "text/plain": [
       "<Figure size 432x288 with 1 Axes>"
      ]
     },
     "metadata": {
      "needs_background": "light"
     },
     "output_type": "display_data"
    }
   ],
   "source": [
    "sns.boxplot(x=datos['TIME_RUTA'])"
   ]
  },
  {
   "cell_type": "code",
   "execution_count": 22,
   "metadata": {},
   "outputs": [
    {
     "data": {
      "text/plain": [
       "Matricula                   47.000000\n",
       "Conductor                  163.000000\n",
       "TiempoParadaTotal            0.965000\n",
       "NumeroDeParadasTotal        10.000000\n",
       "TiempoRalenti                1.666667\n",
       "NumeroDeParadasRalenti      31.000000\n",
       "HorasMotor                  15.000000\n",
       "DistanciaRecorrida        1050.720000\n",
       "ConsumoCombustible         330.500000\n",
       "Frenadas                     5.000000\n",
       "PedalAcelerador            106.000000\n",
       "Embrague                   711.000000\n",
       "ControlCrucero               0.001063\n",
       "TIME_RUTA                   18.089167\n",
       "dtype: float64"
      ]
     },
     "execution_count": 22,
     "metadata": {},
     "output_type": "execute_result"
    }
   ],
   "source": [
    "# Calculamos rango intercuartílico\n",
    "Q1 = datos.quantile(0.25)\n",
    "Q3 = datos.quantile(0.75)\n",
    "IQR = Q3 - Q1\n",
    "IQR"
   ]
  },
  {
   "cell_type": "code",
   "execution_count": 23,
   "metadata": {},
   "outputs": [
    {
     "data": {
      "text/plain": [
       "(Matricula                  -22.500000\n",
       " Conductor                 -165.500000\n",
       " TiempoParadaTotal           -1.447500\n",
       " NumeroDeParadasTotal       -13.000000\n",
       " TiempoRalenti               -2.283333\n",
       " NumeroDeParadasRalenti     -39.500000\n",
       " HorasMotor                 -21.500000\n",
       " DistanciaRecorrida       -1571.575000\n",
       " ConsumoCombustible        -493.250000\n",
       " Frenadas                    -7.500000\n",
       " PedalAcelerador           -149.000000\n",
       " Embrague                 -1001.500000\n",
       " ControlCrucero              -0.001594\n",
       " TIME_RUTA                  -25.248472\n",
       " dtype: float64,\n",
       " Matricula                  165.500000\n",
       " Conductor                  486.500000\n",
       " TiempoParadaTotal            2.412500\n",
       " NumeroDeParadasTotal        27.000000\n",
       " TiempoRalenti                4.383333\n",
       " NumeroDeParadasRalenti      84.500000\n",
       " HorasMotor                  38.500000\n",
       " DistanciaRecorrida        2631.305000\n",
       " ConsumoCombustible         828.750000\n",
       " Frenadas                    12.500000\n",
       " PedalAcelerador            275.000000\n",
       " Embrague                  1842.500000\n",
       " ControlCrucero               0.002657\n",
       " TIME_RUTA                   47.108194\n",
       " dtype: float64)"
      ]
     },
     "execution_count": 23,
     "metadata": {},
     "output_type": "execute_result"
    }
   ],
   "source": [
    "lower_limit = Q1 - 1.5 * IQR\n",
    "upper_limit = Q3 + 1.5 * IQR\n",
    "lower_limit, upper_limit"
   ]
  },
  {
   "cell_type": "code",
   "execution_count": 24,
   "metadata": {},
   "outputs": [
    {
     "data": {
      "text/plain": [
       "(1752, 14)"
      ]
     },
     "execution_count": 24,
     "metadata": {},
     "output_type": "execute_result"
    }
   ],
   "source": [
    "datos = datos[~((datos < (Q1 - 1.5 * IQR)) | (datos > (Q3 + 1.5 * IQR))).any(axis=1)]\n",
    "datos.shape"
   ]
  },
  {
   "cell_type": "markdown",
   "metadata": {},
   "source": [
    "### VARIABLE OBJETIVO"
   ]
  },
  {
   "cell_type": "code",
   "execution_count": 25,
   "metadata": {},
   "outputs": [
    {
     "data": {
      "text/plain": [
       "count    1752.000000\n",
       "mean       69.901826\n",
       "std       140.104860\n",
       "min         0.000000\n",
       "25%         1.000000\n",
       "50%         7.500000\n",
       "75%        28.125000\n",
       "max       574.000000\n",
       "Name: ConsumoCombustible, dtype: float64"
      ]
     },
     "execution_count": 25,
     "metadata": {},
     "output_type": "execute_result"
    }
   ],
   "source": [
    "#Obtenemos la información estadistica de la variable objetivo.\n",
    "datos [ 'ConsumoCombustible' ] . describe()"
   ]
  },
  {
   "cell_type": "code",
   "execution_count": 26,
   "metadata": {},
   "outputs": [
    {
     "data": {
      "image/png": "[encoded data removed]",
      "text/plain": [
       "<Figure size 432x288 with 1 Axes>"
      ]
     },
     "metadata": {
      "needs_background": "light"
     },
     "output_type": "display_data"
    }
   ],
   "source": [
    "# Distribución variable objetivo, esta variable podríamos hacerla binaria por la distribución que tiene\n",
    "# pero solo temdríamos 2 clases de consumo y queremos 4 clases, y hemos eliminado ya los outliers por 1.5 su rango intercuartílico\n",
    "plt.hist(datos['ConsumoCombustible'])\n",
    "plt.show()"
   ]
  },
  {
   "cell_type": "code",
   "execution_count": 27,
   "metadata": {},
   "outputs": [
    {
     "data": {
      "text/plain": [
       "<matplotlib.axes._subplots.AxesSubplot at 0x207ef8d7a48>"
      ]
     },
     "execution_count": 27,
     "metadata": {},
     "output_type": "execute_result"
    },
    {
     "data": {
      "image/png": "[encoded data removed]",
      "text/plain": [
       "<Figure size 432x288 with 1 Axes>"
      ]
     },
     "metadata": {
      "needs_background": "light"
     },
     "output_type": "display_data"
    }
   ],
   "source": [
    "from seaborn  import distplot\n",
    "distplot(datos.ConsumoCombustible)"
   ]
  },
  {
   "cell_type": "raw",
   "metadata": {},
   "source": [
    "#Convertiremo la variable y obtenemos su ranking en funcion de los percentiles.\n",
    "datos['ConsumoCombustible'] = datos.ConsumoCombustible.rank(pct=True)\n",
    "\n",
    "datos"
   ]
  },
  {
   "cell_type": "code",
   "execution_count": 28,
   "metadata": {},
   "outputs": [],
   "source": [
    "from sklearn.preprocessing import KBinsDiscretizer\n",
    "\n",
    "datos['ConsumoCombustible'] = KBinsDiscretizer(n_bins=4, encode='ordinal',\n",
    "                           strategy = \"quantile\").fit_transform(datos[['ConsumoCombustible']])"
   ]
  },
  {
   "cell_type": "raw",
   "metadata": {},
   "source": [
    "from seaborn  import distplot\n",
    "distplot(datos.ConsumoCombustible)"
   ]
  },
  {
   "cell_type": "code",
   "execution_count": 29,
   "metadata": {},
   "outputs": [
    {
     "data": {
      "text/plain": [
       "NRUTA\n",
       "962      1.0\n",
       "991      2.0\n",
       "992      1.0\n",
       "993      2.0\n",
       "995      1.0\n",
       "        ... \n",
       "27544    2.0\n",
       "27545    1.0\n",
       "27577    0.0\n",
       "28327    3.0\n",
       "28329    3.0\n",
       "Name: ConsumoCombustible, Length: 1752, dtype: float64"
      ]
     },
     "execution_count": 29,
     "metadata": {},
     "output_type": "execute_result"
    }
   ],
   "source": [
    "datos['ConsumoCombustible']"
   ]
  },
  {
   "cell_type": "raw",
   "metadata": {},
   "source": [
    "bin_labels_4 = [\"A+\", \"A\", \"B\", \"C\"]\n",
    "datos['ConsumoCombustible'] = pd.qcut(datos['ConsumoCombustible'], q=[0, .25, 0.5, .75, 1], labels=bin_labels_4)\n"
   ]
  },
  {
   "cell_type": "code",
   "execution_count": 30,
   "metadata": {},
   "outputs": [
    {
     "name": "stdout",
     "output_type": "stream",
     "text": [
      "<class 'pandas.core.frame.DataFrame'>\n",
      "Int64Index: 1752 entries, 962 to 28329\n",
      "Data columns (total 14 columns):\n",
      " #   Column                  Non-Null Count  Dtype  \n",
      "---  ------                  --------------  -----  \n",
      " 0   Matricula               1752 non-null   int64  \n",
      " 1   Conductor               1752 non-null   int64  \n",
      " 2   TiempoParadaTotal       1752 non-null   float64\n",
      " 3   NumeroDeParadasTotal    1752 non-null   int64  \n",
      " 4   TiempoRalenti           1752 non-null   float64\n",
      " 5   NumeroDeParadasRalenti  1752 non-null   int64  \n",
      " 6   HorasMotor              1752 non-null   int64  \n",
      " 7   DistanciaRecorrida      1752 non-null   float64\n",
      " 8   ConsumoCombustible      1752 non-null   float64\n",
      " 9   Frenadas                1752 non-null   int64  \n",
      " 10  PedalAcelerador         1752 non-null   int64  \n",
      " 11  Embrague                1752 non-null   int64  \n",
      " 12  ControlCrucero          1752 non-null   float64\n",
      " 13  TIME_RUTA               1752 non-null   float64\n",
      "dtypes: float64(6), int64(8)\n",
      "memory usage: 205.3 KB\n"
     ]
    }
   ],
   "source": [
    "datos.info()"
   ]
  },
  {
   "cell_type": "raw",
   "metadata": {},
   "source": [
    "# Distribución variable objetivo despues la de transformacion.\n",
    "plt.hist(datos['ConsumoCombustible'])\n",
    "plt.show()"
   ]
  },
  {
   "cell_type": "raw",
   "metadata": {},
   "source": [
    "sns.boxplot(x=datos['ConsumoCombustible']) #"
   ]
  },
  {
   "cell_type": "code",
   "execution_count": 31,
   "metadata": {},
   "outputs": [
    {
     "name": "stdout",
     "output_type": "stream",
     "text": [
      "<class 'pandas.core.frame.DataFrame'>\n",
      "Int64Index: 1752 entries, 962 to 28329\n",
      "Data columns (total 14 columns):\n",
      " #   Column                  Non-Null Count  Dtype  \n",
      "---  ------                  --------------  -----  \n",
      " 0   Matricula               1752 non-null   int64  \n",
      " 1   Conductor               1752 non-null   int64  \n",
      " 2   TiempoParadaTotal       1752 non-null   float64\n",
      " 3   NumeroDeParadasTotal    1752 non-null   int64  \n",
      " 4   TiempoRalenti           1752 non-null   float64\n",
      " 5   NumeroDeParadasRalenti  1752 non-null   int64  \n",
      " 6   HorasMotor              1752 non-null   int64  \n",
      " 7   DistanciaRecorrida      1752 non-null   float64\n",
      " 8   ConsumoCombustible      1752 non-null   float64\n",
      " 9   Frenadas                1752 non-null   int64  \n",
      " 10  PedalAcelerador         1752 non-null   int64  \n",
      " 11  Embrague                1752 non-null   int64  \n",
      " 12  ControlCrucero          1752 non-null   float64\n",
      " 13  TIME_RUTA               1752 non-null   float64\n",
      "dtypes: float64(6), int64(8)\n",
      "memory usage: 205.3 KB\n"
     ]
    }
   ],
   "source": [
    "datos.info()"
   ]
  },
  {
   "cell_type": "markdown",
   "metadata": {},
   "source": [
    "### Estudio de variables y correlación"
   ]
  },
  {
   "cell_type": "code",
   "execution_count": 32,
   "metadata": {},
   "outputs": [
    {
     "name": "stderr",
     "output_type": "stream",
     "text": [
      "C:\\Users\\Equipo\\anaconda3\\lib\\site-packages\\seaborn\\distributions.py:369: UserWarning: Default bandwidth for data is 0; skipping density estimation.\n",
      "  warnings.warn(msg, UserWarning)\n"
     ]
    },
    {
     "data": {
      "image/png": "[encoded data removed]",
      "text/plain": [
       "<Figure size 1008x648 with 13 Axes>"
      ]
     },
     "metadata": {
      "needs_background": "light"
     },
     "output_type": "display_data"
    }
   ],
   "source": [
    "# Gráfico de distribución para cada variable numérica\n",
    "#-------------------------------------------------------------------------------\n",
    "fig, axes = plt.subplots(nrows=5, ncols=3, figsize=(14, 9))\n",
    "axes = axes.flat\n",
    "columnas_numeric = datos.select_dtypes(include=['float64', 'int64']).columns\n",
    "#columnas_numeric = columnas_numeric.drop('ConsumoCombustible')\n",
    "\n",
    "for i, colum in enumerate(columnas_numeric):\n",
    "    sns.distplot(\n",
    "        datos[colum],\n",
    "        hist    = True,\n",
    "        rug     = False,\n",
    "        color   = (list(plt.rcParams['axes.prop_cycle'])*2)[i][\"color\"],\n",
    "        kde_kws = {'shade': False, 'linewidth': 1},\n",
    "        ax      = axes[i]\n",
    "    )\n",
    "    axes[i].set_title(colum, fontsize = 10, fontweight = \"bold\")\n",
    "    axes[i].tick_params(labelsize =9)\n",
    "    axes[i].set_xlabel(\"\")\n",
    "    \n",
    "    \n",
    "fig.tight_layout()\n",
    "plt.subplots_adjust(top = 0.9)\n",
    "fig.suptitle('Distribución variables numéricas', fontsize = 14, fontweight = \"bold\");\n",
    "\n",
    "# Se eliminan los axes vacíos\n",
    "fig.delaxes(axes[13])\n",
    "fig.delaxes(axes[14])"
   ]
  },
  {
   "cell_type": "markdown",
   "metadata": {},
   "source": [
    "### Variable objetivo\n",
    "Estudio **variable objetivo** frente a resto de variables, observamos que la mayoría tienen correlación."
   ]
  },
  {
   "cell_type": "code",
   "execution_count": 33,
   "metadata": {},
   "outputs": [
    {
     "name": "stderr",
     "output_type": "stream",
     "text": [
      "C:\\Users\\Equipo\\anaconda3\\lib\\site-packages\\numpy\\linalg\\linalg.py:1942: RuntimeWarning: invalid value encountered in greater\n",
      "  large = s > cutoff\n"
     ]
    },
    {
     "data": {
      "image/png": "[encoded data removed]",
      "text/plain": [
       "<Figure size 1008x648 with 13 Axes>"
      ]
     },
     "metadata": {
      "needs_background": "light"
     },
     "output_type": "display_data"
    }
   ],
   "source": [
    "# Gráfico de distribución para cada variable numérica\n",
    "#-------------------------------------------------------------------------------\n",
    "# Ajustar número de subplots en función del número de columnas\n",
    "fig, axes = plt.subplots(nrows=5, ncols=3, figsize=(14, 9))\n",
    "axes = axes.flat\n",
    "columnas_numeric = datos.select_dtypes(include=['float64', 'int64']).columns\n",
    "columnas_numeric = columnas_numeric.drop('ConsumoCombustible')\n",
    "\n",
    "for i, colum in enumerate(columnas_numeric):\n",
    "    sns.regplot(\n",
    "        x           = datos[colum],\n",
    "        y           = datos['ConsumoCombustible'],\n",
    "        color       = \"gray\",\n",
    "        marker      = '.',\n",
    "        scatter_kws = {\"alpha\":0.4},\n",
    "        line_kws    = {\"color\":\"r\",\"alpha\":0.7},\n",
    "        ax          = axes[i]\n",
    "    )\n",
    "    axes[i].set_title(f\"ConsumoCombustible vs {colum}\", fontsize = 10, fontweight = \"bold\")\n",
    "    axes[i].ticklabel_format(style='sci', scilimits=(-4,4), axis='both')\n",
    "    axes[i].yaxis.set_major_formatter(ticker.EngFormatter())\n",
    "    axes[i].xaxis.set_major_formatter(ticker.EngFormatter())\n",
    "    axes[i].tick_params(labelsize = 9)\n",
    "    axes[i].set_xlabel(\"\")\n",
    "    axes[i].set_ylabel(\"\")\n",
    "\n",
    "   \n",
    "fig.tight_layout()\n",
    "plt.subplots_adjust(top=0.9)\n",
    "fig.suptitle('Correlación con Consumo', fontsize = 14, fontweight = \"bold\");\n",
    "\n",
    "\n",
    "# Se eliminan los axes vacíos\n",
    "fig.delaxes(axes[13])\n",
    "fig.delaxes(axes[14])"
   ]
  },
  {
   "cell_type": "code",
   "execution_count": 34,
   "metadata": {},
   "outputs": [
    {
     "data": {
      "text/html": [
       "<style  type=\"text/css\" >\n",
       "    #T_2c376a18_f5b8_11ea_96b4_44032cc3940brow0_col0 {\n",
       "            background-color:  #023858;\n",
       "            color:  #f1f1f1;\n",
       "        }    #T_2c376a18_f5b8_11ea_96b4_44032cc3940brow1_col0 {\n",
       "            background-color:  #2786bb;\n",
       "            color:  #000000;\n",
       "        }    #T_2c376a18_f5b8_11ea_96b4_44032cc3940brow2_col0 {\n",
       "            background-color:  #2786bb;\n",
       "            color:  #000000;\n",
       "        }    #T_2c376a18_f5b8_11ea_96b4_44032cc3940brow3_col0 {\n",
       "            background-color:  #2a88bc;\n",
       "            color:  #000000;\n",
       "        }    #T_2c376a18_f5b8_11ea_96b4_44032cc3940brow4_col0 {\n",
       "            background-color:  #2a88bc;\n",
       "            color:  #000000;\n",
       "        }    #T_2c376a18_f5b8_11ea_96b4_44032cc3940brow5_col0 {\n",
       "            background-color:  #348ebf;\n",
       "            color:  #000000;\n",
       "        }    #T_2c376a18_f5b8_11ea_96b4_44032cc3940brow6_col0 {\n",
       "            background-color:  #358fc0;\n",
       "            color:  #000000;\n",
       "        }    #T_2c376a18_f5b8_11ea_96b4_44032cc3940brow7_col0 {\n",
       "            background-color:  #549cc7;\n",
       "            color:  #000000;\n",
       "        }    #T_2c376a18_f5b8_11ea_96b4_44032cc3940brow8_col0 {\n",
       "            background-color:  #84b0d3;\n",
       "            color:  #000000;\n",
       "        }    #T_2c376a18_f5b8_11ea_96b4_44032cc3940brow9_col0 {\n",
       "            background-color:  #8fb4d6;\n",
       "            color:  #000000;\n",
       "        }    #T_2c376a18_f5b8_11ea_96b4_44032cc3940brow10_col0 {\n",
       "            background-color:  #afc1dd;\n",
       "            color:  #000000;\n",
       "        }    #T_2c376a18_f5b8_11ea_96b4_44032cc3940brow11_col0 {\n",
       "            background-color:  #f3edf5;\n",
       "            color:  #000000;\n",
       "        }    #T_2c376a18_f5b8_11ea_96b4_44032cc3940brow12_col0 {\n",
       "            background-color:  #faf3f9;\n",
       "            color:  #000000;\n",
       "        }    #T_2c376a18_f5b8_11ea_96b4_44032cc3940brow13_col0 {\n",
       "            background-color:  #fff7fb;\n",
       "            color:  #000000;\n",
       "        }</style><table id=\"T_2c376a18_f5b8_11ea_96b4_44032cc3940b\" ><thead>    <tr>        <th class=\"blank level0\" ></th>        <th class=\"col_heading level0 col0\" >ConsumoCombustible</th>    </tr></thead><tbody>\n",
       "                <tr>\n",
       "                        <th id=\"T_2c376a18_f5b8_11ea_96b4_44032cc3940blevel0_row0\" class=\"row_heading level0 row0\" >ConsumoCombustible</th>\n",
       "                        <td id=\"T_2c376a18_f5b8_11ea_96b4_44032cc3940brow0_col0\" class=\"data row0 col0\" >1.000000</td>\n",
       "            </tr>\n",
       "            <tr>\n",
       "                        <th id=\"T_2c376a18_f5b8_11ea_96b4_44032cc3940blevel0_row1\" class=\"row_heading level0 row1\" >TIME_RUTA</th>\n",
       "                        <td id=\"T_2c376a18_f5b8_11ea_96b4_44032cc3940brow1_col0\" class=\"data row1 col0\" >0.679007</td>\n",
       "            </tr>\n",
       "            <tr>\n",
       "                        <th id=\"T_2c376a18_f5b8_11ea_96b4_44032cc3940blevel0_row2\" class=\"row_heading level0 row2\" >PedalAcelerador</th>\n",
       "                        <td id=\"T_2c376a18_f5b8_11ea_96b4_44032cc3940brow2_col0\" class=\"data row2 col0\" >0.677681</td>\n",
       "            </tr>\n",
       "            <tr>\n",
       "                        <th id=\"T_2c376a18_f5b8_11ea_96b4_44032cc3940blevel0_row3\" class=\"row_heading level0 row3\" >Embrague</th>\n",
       "                        <td id=\"T_2c376a18_f5b8_11ea_96b4_44032cc3940brow3_col0\" class=\"data row3 col0\" >0.671681</td>\n",
       "            </tr>\n",
       "            <tr>\n",
       "                        <th id=\"T_2c376a18_f5b8_11ea_96b4_44032cc3940blevel0_row4\" class=\"row_heading level0 row4\" >NumeroDeParadasRalenti</th>\n",
       "                        <td id=\"T_2c376a18_f5b8_11ea_96b4_44032cc3940brow4_col0\" class=\"data row4 col0\" >0.670323</td>\n",
       "            </tr>\n",
       "            <tr>\n",
       "                        <th id=\"T_2c376a18_f5b8_11ea_96b4_44032cc3940blevel0_row5\" class=\"row_heading level0 row5\" >HorasMotor</th>\n",
       "                        <td id=\"T_2c376a18_f5b8_11ea_96b4_44032cc3940brow5_col0\" class=\"data row5 col0\" >0.649466</td>\n",
       "            </tr>\n",
       "            <tr>\n",
       "                        <th id=\"T_2c376a18_f5b8_11ea_96b4_44032cc3940blevel0_row6\" class=\"row_heading level0 row6\" >Frenadas</th>\n",
       "                        <td id=\"T_2c376a18_f5b8_11ea_96b4_44032cc3940brow6_col0\" class=\"data row6 col0\" >0.645644</td>\n",
       "            </tr>\n",
       "            <tr>\n",
       "                        <th id=\"T_2c376a18_f5b8_11ea_96b4_44032cc3940blevel0_row7\" class=\"row_heading level0 row7\" >DistanciaRecorrida</th>\n",
       "                        <td id=\"T_2c376a18_f5b8_11ea_96b4_44032cc3940brow7_col0\" class=\"data row7 col0\" >0.587683</td>\n",
       "            </tr>\n",
       "            <tr>\n",
       "                        <th id=\"T_2c376a18_f5b8_11ea_96b4_44032cc3940blevel0_row8\" class=\"row_heading level0 row8\" >NumeroDeParadasTotal</th>\n",
       "                        <td id=\"T_2c376a18_f5b8_11ea_96b4_44032cc3940brow8_col0\" class=\"data row8 col0\" >0.485028</td>\n",
       "            </tr>\n",
       "            <tr>\n",
       "                        <th id=\"T_2c376a18_f5b8_11ea_96b4_44032cc3940blevel0_row9\" class=\"row_heading level0 row9\" >TiempoRalenti</th>\n",
       "                        <td id=\"T_2c376a18_f5b8_11ea_96b4_44032cc3940brow9_col0\" class=\"data row9 col0\" >0.459034</td>\n",
       "            </tr>\n",
       "            <tr>\n",
       "                        <th id=\"T_2c376a18_f5b8_11ea_96b4_44032cc3940blevel0_row10\" class=\"row_heading level0 row10\" >ControlCrucero</th>\n",
       "                        <td id=\"T_2c376a18_f5b8_11ea_96b4_44032cc3940brow10_col0\" class=\"data row10 col0\" >0.382324</td>\n",
       "            </tr>\n",
       "            <tr>\n",
       "                        <th id=\"T_2c376a18_f5b8_11ea_96b4_44032cc3940blevel0_row11\" class=\"row_heading level0 row11\" >TiempoParadaTotal</th>\n",
       "                        <td id=\"T_2c376a18_f5b8_11ea_96b4_44032cc3940brow11_col0\" class=\"data row11 col0\" >0.127830</td>\n",
       "            </tr>\n",
       "            <tr>\n",
       "                        <th id=\"T_2c376a18_f5b8_11ea_96b4_44032cc3940blevel0_row12\" class=\"row_heading level0 row12\" >Matricula</th>\n",
       "                        <td id=\"T_2c376a18_f5b8_11ea_96b4_44032cc3940brow12_col0\" class=\"data row12 col0\" >0.082758</td>\n",
       "            </tr>\n",
       "            <tr>\n",
       "                        <th id=\"T_2c376a18_f5b8_11ea_96b4_44032cc3940blevel0_row13\" class=\"row_heading level0 row13\" >Conductor</th>\n",
       "                        <td id=\"T_2c376a18_f5b8_11ea_96b4_44032cc3940brow13_col0\" class=\"data row13 col0\" >0.050472</td>\n",
       "            </tr>\n",
       "    </tbody></table>"
      ],
      "text/plain": [
       "<pandas.io.formats.style.Styler at 0x207f403ee08>"
      ]
     },
     "execution_count": 34,
     "metadata": {},
     "output_type": "execute_result"
    }
   ],
   "source": [
    "corr = abs(datos.corr())\n",
    "corr[['ConsumoCombustible']].sort_values(by = 'ConsumoCombustible',ascending = False).style.background_gradient()"
   ]
  },
  {
   "cell_type": "code",
   "execution_count": 35,
   "metadata": {},
   "outputs": [
    {
     "data": {
      "text/html": [
       "<div>\n",
       "<style scoped>\n",
       "    .dataframe tbody tr th:only-of-type {\n",
       "        vertical-align: middle;\n",
       "    }\n",
       "\n",
       "    .dataframe tbody tr th {\n",
       "        vertical-align: top;\n",
       "    }\n",
       "\n",
       "    .dataframe thead th {\n",
       "        text-align: right;\n",
       "    }\n",
       "</style>\n",
       "<table border=\"1\" class=\"dataframe\">\n",
       "  <thead>\n",
       "    <tr style=\"text-align: right;\">\n",
       "      <th></th>\n",
       "      <th>variable_1</th>\n",
       "      <th>variable_2</th>\n",
       "      <th>r</th>\n",
       "      <th>abs_r</th>\n",
       "    </tr>\n",
       "  </thead>\n",
       "  <tbody>\n",
       "    <tr>\n",
       "      <th>104</th>\n",
       "      <td>DistanciaRecorrida</td>\n",
       "      <td>HorasMotor</td>\n",
       "      <td>0.974929</td>\n",
       "      <td>0.974929</td>\n",
       "    </tr>\n",
       "    <tr>\n",
       "      <th>91</th>\n",
       "      <td>HorasMotor</td>\n",
       "      <td>DistanciaRecorrida</td>\n",
       "      <td>0.974929</td>\n",
       "      <td>0.974929</td>\n",
       "    </tr>\n",
       "    <tr>\n",
       "      <th>188</th>\n",
       "      <td>TIME_RUTA</td>\n",
       "      <td>HorasMotor</td>\n",
       "      <td>0.972544</td>\n",
       "      <td>0.972544</td>\n",
       "    </tr>\n",
       "    <tr>\n",
       "      <th>97</th>\n",
       "      <td>HorasMotor</td>\n",
       "      <td>TIME_RUTA</td>\n",
       "      <td>0.972544</td>\n",
       "      <td>0.972544</td>\n",
       "    </tr>\n",
       "    <tr>\n",
       "      <th>189</th>\n",
       "      <td>TIME_RUTA</td>\n",
       "      <td>DistanciaRecorrida</td>\n",
       "      <td>0.945333</td>\n",
       "      <td>0.945333</td>\n",
       "    </tr>\n",
       "    <tr>\n",
       "      <th>111</th>\n",
       "      <td>DistanciaRecorrida</td>\n",
       "      <td>TIME_RUTA</td>\n",
       "      <td>0.945333</td>\n",
       "      <td>0.945333</td>\n",
       "    </tr>\n",
       "    <tr>\n",
       "      <th>193</th>\n",
       "      <td>TIME_RUTA</td>\n",
       "      <td>Embrague</td>\n",
       "      <td>0.933860</td>\n",
       "      <td>0.933860</td>\n",
       "    </tr>\n",
       "    <tr>\n",
       "      <th>167</th>\n",
       "      <td>Embrague</td>\n",
       "      <td>TIME_RUTA</td>\n",
       "      <td>0.933860</td>\n",
       "      <td>0.933860</td>\n",
       "    </tr>\n",
       "    <tr>\n",
       "      <th>160</th>\n",
       "      <td>Embrague</td>\n",
       "      <td>HorasMotor</td>\n",
       "      <td>0.923203</td>\n",
       "      <td>0.923203</td>\n",
       "    </tr>\n",
       "    <tr>\n",
       "      <th>95</th>\n",
       "      <td>HorasMotor</td>\n",
       "      <td>Embrague</td>\n",
       "      <td>0.923203</td>\n",
       "      <td>0.923203</td>\n",
       "    </tr>\n",
       "  </tbody>\n",
       "</table>\n",
       "</div>"
      ],
      "text/plain": [
       "             variable_1          variable_2         r     abs_r\n",
       "104  DistanciaRecorrida          HorasMotor  0.974929  0.974929\n",
       "91           HorasMotor  DistanciaRecorrida  0.974929  0.974929\n",
       "188           TIME_RUTA          HorasMotor  0.972544  0.972544\n",
       "97           HorasMotor           TIME_RUTA  0.972544  0.972544\n",
       "189           TIME_RUTA  DistanciaRecorrida  0.945333  0.945333\n",
       "111  DistanciaRecorrida           TIME_RUTA  0.945333  0.945333\n",
       "193           TIME_RUTA            Embrague  0.933860  0.933860\n",
       "167            Embrague           TIME_RUTA  0.933860  0.933860\n",
       "160            Embrague          HorasMotor  0.923203  0.923203\n",
       "95           HorasMotor            Embrague  0.923203  0.923203"
      ]
     },
     "execution_count": 35,
     "metadata": {},
     "output_type": "execute_result"
    }
   ],
   "source": [
    "# Correlación entre columnas numéricas\n",
    "# ------------------------------------------------------------------------------\n",
    "\n",
    "def tidy_corr_matrix(corr_mat):\n",
    "    '''\n",
    "    Función para convertir una matrix de correlación de pandas en formato tidy\n",
    "    '''\n",
    "    corr_mat = corr_mat.stack().reset_index()\n",
    "    corr_mat.columns = ['variable_1','variable_2','r']\n",
    "    corr_mat = corr_mat.loc[corr_mat['variable_1'] != corr_mat['variable_2'], :]\n",
    "    corr_mat['abs_r'] = np.abs(corr_mat['r'])\n",
    "    corr_mat = corr_mat.sort_values('abs_r', ascending=False)\n",
    "    \n",
    "    return(corr_mat)\n",
    "\n",
    "\n",
    "\n",
    "corr_matrix = datos.select_dtypes(include=['float64', 'int64']).corr(method='pearson')\n",
    "tidy_corr_matrix(corr_matrix).head(10)"
   ]
  },
  {
   "cell_type": "code",
   "execution_count": 36,
   "metadata": {},
   "outputs": [
    {
     "data": {
      "image/png": "[encoded data removed]",
      "text/plain": [
       "<Figure size 1080x1080 with 1 Axes>"
      ]
     },
     "metadata": {
      "needs_background": "light"
     },
     "output_type": "display_data"
    }
   ],
   "source": [
    "# Heatmap matriz de correlaciones\n",
    "# ------------------------------------------------------------------------------\n",
    "fig, ax = plt.subplots(nrows=1, ncols=1, figsize=(15, 15))\n",
    "\n",
    "sns.heatmap(\n",
    "    corr_matrix,\n",
    "    annot     = True,\n",
    "    cbar      = False,\n",
    "    annot_kws = {\"size\": 6},\n",
    "    vmin      = -1,\n",
    "    vmax      = 1,\n",
    "    center    = 0,\n",
    "    cmap      = sns.diverging_palette(20, 220, n=200),\n",
    "    square    = True,\n",
    "    ax        = ax\n",
    ")\n",
    "ax.set_xticklabels(\n",
    "    ax.get_xticklabels(),\n",
    "    rotation = 45,\n",
    "    horizontalalignment = 'right',\n",
    ")\n",
    "\n",
    "ax.tick_params(labelsize = 8)"
   ]
  },
  {
   "cell_type": "markdown",
   "metadata": {},
   "source": [
    "Para ello utilizaremos un proceso automatico, que eliminara la variable con mayor **VIF** nos indicara cuales son las la variables que son las optimas para nuestro modelo ya que las elimina por la correlación con la variable objetivo. Vemos que saca HorasMotor, DistanciaRecorrida y TIME_Ruta, como ya adelantaba el análisis de correlación y la matriz de correlación."
   ]
  },
  {
   "cell_type": "code",
   "execution_count": 37,
   "metadata": {},
   "outputs": [
    {
     "data": {
      "text/html": [
       "<div>\n",
       "<style scoped>\n",
       "    .dataframe tbody tr th:only-of-type {\n",
       "        vertical-align: middle;\n",
       "    }\n",
       "\n",
       "    .dataframe tbody tr th {\n",
       "        vertical-align: top;\n",
       "    }\n",
       "\n",
       "    .dataframe thead th {\n",
       "        text-align: right;\n",
       "    }\n",
       "</style>\n",
       "<table border=\"1\" class=\"dataframe\">\n",
       "  <thead>\n",
       "    <tr style=\"text-align: right;\">\n",
       "      <th></th>\n",
       "      <th>Matricula</th>\n",
       "      <th>Conductor</th>\n",
       "      <th>TiempoParadaTotal</th>\n",
       "      <th>NumeroDeParadasTotal</th>\n",
       "      <th>TiempoRalenti</th>\n",
       "      <th>NumeroDeParadasRalenti</th>\n",
       "      <th>HorasMotor</th>\n",
       "      <th>DistanciaRecorrida</th>\n",
       "      <th>Frenadas</th>\n",
       "      <th>PedalAcelerador</th>\n",
       "      <th>Embrague</th>\n",
       "      <th>ControlCrucero</th>\n",
       "      <th>TIME_RUTA</th>\n",
       "    </tr>\n",
       "  </thead>\n",
       "  <tbody>\n",
       "    <tr>\n",
       "      <th>VIF</th>\n",
       "      <td>1.346775</td>\n",
       "      <td>1.308297</td>\n",
       "      <td>1.591798</td>\n",
       "      <td>3.692811</td>\n",
       "      <td>3.479341</td>\n",
       "      <td>8.431325</td>\n",
       "      <td>87.381435</td>\n",
       "      <td>77.211352</td>\n",
       "      <td>2.440932</td>\n",
       "      <td>3.433814</td>\n",
       "      <td>11.713444</td>\n",
       "      <td>2.176071</td>\n",
       "      <td>50.918666</td>\n",
       "    </tr>\n",
       "  </tbody>\n",
       "</table>\n",
       "</div>"
      ],
      "text/plain": [
       "     Matricula  Conductor  TiempoParadaTotal  NumeroDeParadasTotal  \\\n",
       "VIF   1.346775   1.308297           1.591798              3.692811   \n",
       "\n",
       "     TiempoRalenti  NumeroDeParadasRalenti  HorasMotor  DistanciaRecorrida  \\\n",
       "VIF       3.479341                8.431325   87.381435           77.211352   \n",
       "\n",
       "     Frenadas  PedalAcelerador   Embrague  ControlCrucero  TIME_RUTA  \n",
       "VIF  2.440932         3.433814  11.713444        2.176071  50.918666  "
      ]
     },
     "execution_count": 37,
     "metadata": {},
     "output_type": "execute_result"
    }
   ],
   "source": [
    "from sklearn.linear_model import LinearRegression\n",
    "\n",
    "def calculateVIF(data):\n",
    "    features = list(data.columns)\n",
    "    num_features = len(features)\n",
    "    \n",
    "    model = LinearRegression()\n",
    "    \n",
    "    result = pd.DataFrame(index = ['VIF'], columns = features)\n",
    "    result = result.fillna(0)\n",
    "    \n",
    "    for ite in range(num_features):\n",
    "        x_features = features[:]\n",
    "        y_featue = features[ite]\n",
    "        x_features.remove(y_featue)\n",
    "        \n",
    "        x = data[x_features]\n",
    "        y = data[y_featue]\n",
    "        \n",
    "        model.fit(data[x_features], data[y_featue])\n",
    "        \n",
    "        result[y_featue] = 1/(1 - model.score(data[x_features], data[y_featue]))\n",
    "    \n",
    "    return result\n",
    "\n",
    "datos_vif = datos.copy(deep = True)\n",
    "features = list(datos_vif.columns)\n",
    "features.remove('ConsumoCombustible')\n",
    "datos_vif = datos_vif[features]\n",
    "\n",
    "calculateVIF(datos_vif)"
   ]
  },
  {
   "cell_type": "code",
   "execution_count": 38,
   "metadata": {},
   "outputs": [
    {
     "name": "stdout",
     "output_type": "stream",
     "text": [
      "<class 'pandas.core.frame.DataFrame'>\n",
      "Int64Index: 1752 entries, 962 to 28329\n",
      "Data columns (total 13 columns):\n",
      " #   Column                  Non-Null Count  Dtype  \n",
      "---  ------                  --------------  -----  \n",
      " 0   Matricula               1752 non-null   int64  \n",
      " 1   Conductor               1752 non-null   int64  \n",
      " 2   TiempoParadaTotal       1752 non-null   float64\n",
      " 3   NumeroDeParadasTotal    1752 non-null   int64  \n",
      " 4   TiempoRalenti           1752 non-null   float64\n",
      " 5   NumeroDeParadasRalenti  1752 non-null   int64  \n",
      " 6   HorasMotor              1752 non-null   int64  \n",
      " 7   DistanciaRecorrida      1752 non-null   float64\n",
      " 8   Frenadas                1752 non-null   int64  \n",
      " 9   PedalAcelerador         1752 non-null   int64  \n",
      " 10  Embrague                1752 non-null   int64  \n",
      " 11  ControlCrucero          1752 non-null   float64\n",
      " 12  TIME_RUTA               1752 non-null   float64\n",
      "dtypes: float64(5), int64(8)\n",
      "memory usage: 191.6 KB\n"
     ]
    }
   ],
   "source": [
    "datos_vif.info()"
   ]
  },
  {
   "cell_type": "code",
   "execution_count": 39,
   "metadata": {},
   "outputs": [
    {
     "data": {
      "text/html": [
       "<div>\n",
       "<style scoped>\n",
       "    .dataframe tbody tr th:only-of-type {\n",
       "        vertical-align: middle;\n",
       "    }\n",
       "\n",
       "    .dataframe tbody tr th {\n",
       "        vertical-align: top;\n",
       "    }\n",
       "\n",
       "    .dataframe thead th {\n",
       "        text-align: right;\n",
       "    }\n",
       "</style>\n",
       "<table border=\"1\" class=\"dataframe\">\n",
       "  <thead>\n",
       "    <tr style=\"text-align: right;\">\n",
       "      <th></th>\n",
       "      <th>Matricula</th>\n",
       "      <th>Conductor</th>\n",
       "      <th>TiempoParadaTotal</th>\n",
       "      <th>NumeroDeParadasTotal</th>\n",
       "      <th>TiempoRalenti</th>\n",
       "      <th>DistanciaRecorrida</th>\n",
       "      <th>Frenadas</th>\n",
       "      <th>PedalAcelerador</th>\n",
       "      <th>ControlCrucero</th>\n",
       "    </tr>\n",
       "  </thead>\n",
       "  <tbody>\n",
       "    <tr>\n",
       "      <th>VIF</th>\n",
       "      <td>1.323115</td>\n",
       "      <td>1.272868</td>\n",
       "      <td>1.418386</td>\n",
       "      <td>1.777981</td>\n",
       "      <td>1.296966</td>\n",
       "      <td>3.441806</td>\n",
       "      <td>2.37353</td>\n",
       "      <td>3.260933</td>\n",
       "      <td>2.162889</td>\n",
       "    </tr>\n",
       "  </tbody>\n",
       "</table>\n",
       "</div>"
      ],
      "text/plain": [
       "     Matricula  Conductor  TiempoParadaTotal  NumeroDeParadasTotal  \\\n",
       "VIF   1.323115   1.272868           1.418386              1.777981   \n",
       "\n",
       "     TiempoRalenti  DistanciaRecorrida  Frenadas  PedalAcelerador  \\\n",
       "VIF       1.296966            3.441806   2.37353         3.260933   \n",
       "\n",
       "     ControlCrucero  \n",
       "VIF        2.162889  "
      ]
     },
     "execution_count": 39,
     "metadata": {},
     "output_type": "execute_result"
    }
   ],
   "source": [
    "def selectDataUsingVIF(data, max_VIF = 5):\n",
    "    result = data.copy(deep = True)\n",
    "    \n",
    "    VIF = calculateVIF(result)\n",
    "    \n",
    "    while VIF.values.max() > max_VIF:\n",
    "        col_max = np.where(VIF == VIF.values.max())[1][0]\n",
    "        features = list(result.columns)\n",
    "        features.remove(features[col_max])\n",
    "        result = result[features]\n",
    "        \n",
    "        VIF = calculateVIF(result)\n",
    "        \n",
    "    return result\n",
    "\n",
    "\n",
    "result = selectDataUsingVIF(datos_vif)\n",
    "\n",
    "calculateVIF(selectDataUsingVIF(datos_vif))\n"
   ]
  },
  {
   "cell_type": "code",
   "execution_count": 40,
   "metadata": {},
   "outputs": [
    {
     "data": {
      "text/plain": [
       "Index(['Matricula', 'Conductor', 'TiempoParadaTotal', 'NumeroDeParadasTotal',\n",
       "       'TiempoRalenti', 'DistanciaRecorrida', 'Frenadas', 'PedalAcelerador',\n",
       "       'ControlCrucero'],\n",
       "      dtype='object')"
      ]
     },
     "execution_count": 40,
     "metadata": {},
     "output_type": "execute_result"
    }
   ],
   "source": [
    "result.columns"
   ]
  },
  {
   "cell_type": "code",
   "execution_count": 41,
   "metadata": {},
   "outputs": [
    {
     "data": {
      "text/html": [
       "<div>\n",
       "<style scoped>\n",
       "    .dataframe tbody tr th:only-of-type {\n",
       "        vertical-align: middle;\n",
       "    }\n",
       "\n",
       "    .dataframe tbody tr th {\n",
       "        vertical-align: top;\n",
       "    }\n",
       "\n",
       "    .dataframe thead th {\n",
       "        text-align: right;\n",
       "    }\n",
       "</style>\n",
       "<table border=\"1\" class=\"dataframe\">\n",
       "  <thead>\n",
       "    <tr style=\"text-align: right;\">\n",
       "      <th></th>\n",
       "      <th>Matricula</th>\n",
       "      <th>Conductor</th>\n",
       "      <th>TiempoParadaTotal</th>\n",
       "      <th>NumeroDeParadasTotal</th>\n",
       "      <th>TiempoRalenti</th>\n",
       "      <th>NumeroDeParadasRalenti</th>\n",
       "      <th>HorasMotor</th>\n",
       "      <th>DistanciaRecorrida</th>\n",
       "      <th>ConsumoCombustible</th>\n",
       "      <th>Frenadas</th>\n",
       "      <th>PedalAcelerador</th>\n",
       "      <th>Embrague</th>\n",
       "      <th>ControlCrucero</th>\n",
       "      <th>TIME_RUTA</th>\n",
       "    </tr>\n",
       "  </thead>\n",
       "  <tbody>\n",
       "    <tr>\n",
       "      <th>count</th>\n",
       "      <td>1752.000000</td>\n",
       "      <td>1752.000000</td>\n",
       "      <td>1752.000000</td>\n",
       "      <td>1752.000000</td>\n",
       "      <td>1752.000000</td>\n",
       "      <td>1752.000000</td>\n",
       "      <td>1752.000000</td>\n",
       "      <td>1752.000000</td>\n",
       "      <td>1752.000000</td>\n",
       "      <td>1752.000000</td>\n",
       "      <td>1752.000000</td>\n",
       "      <td>1752.000000</td>\n",
       "      <td>1752.000000</td>\n",
       "      <td>1752.000000</td>\n",
       "    </tr>\n",
       "    <tr>\n",
       "      <th>mean</th>\n",
       "      <td>63.369863</td>\n",
       "      <td>163.062785</td>\n",
       "      <td>0.418474</td>\n",
       "      <td>5.931507</td>\n",
       "      <td>0.980078</td>\n",
       "      <td>18.429795</td>\n",
       "      <td>3.993721</td>\n",
       "      <td>221.499903</td>\n",
       "      <td>1.597603</td>\n",
       "      <td>2.037100</td>\n",
       "      <td>46.300228</td>\n",
       "      <td>275.457763</td>\n",
       "      <td>0.000188</td>\n",
       "      <td>6.054263</td>\n",
       "    </tr>\n",
       "    <tr>\n",
       "      <th>std</th>\n",
       "      <td>33.086860</td>\n",
       "      <td>96.481040</td>\n",
       "      <td>0.588328</td>\n",
       "      <td>5.273111</td>\n",
       "      <td>1.041250</td>\n",
       "      <td>15.809860</td>\n",
       "      <td>5.854652</td>\n",
       "      <td>430.019668</td>\n",
       "      <td>1.032678</td>\n",
       "      <td>2.748821</td>\n",
       "      <td>55.500918</td>\n",
       "      <td>317.865519</td>\n",
       "      <td>0.000547</td>\n",
       "      <td>6.884162</td>\n",
       "    </tr>\n",
       "    <tr>\n",
       "      <th>min</th>\n",
       "      <td>3.000000</td>\n",
       "      <td>1.000000</td>\n",
       "      <td>0.000000</td>\n",
       "      <td>1.000000</td>\n",
       "      <td>0.000000</td>\n",
       "      <td>1.000000</td>\n",
       "      <td>0.000000</td>\n",
       "      <td>0.010000</td>\n",
       "      <td>0.000000</td>\n",
       "      <td>0.000000</td>\n",
       "      <td>0.000000</td>\n",
       "      <td>1.000000</td>\n",
       "      <td>0.000000</td>\n",
       "      <td>0.033333</td>\n",
       "    </tr>\n",
       "    <tr>\n",
       "      <th>25%</th>\n",
       "      <td>48.000000</td>\n",
       "      <td>89.000000</td>\n",
       "      <td>0.000000</td>\n",
       "      <td>2.000000</td>\n",
       "      <td>0.100000</td>\n",
       "      <td>5.000000</td>\n",
       "      <td>0.000000</td>\n",
       "      <td>1.541250</td>\n",
       "      <td>1.000000</td>\n",
       "      <td>0.000000</td>\n",
       "      <td>4.750000</td>\n",
       "      <td>42.000000</td>\n",
       "      <td>0.000000</td>\n",
       "      <td>1.289653</td>\n",
       "    </tr>\n",
       "    <tr>\n",
       "      <th>50%</th>\n",
       "      <td>60.000000</td>\n",
       "      <td>187.000000</td>\n",
       "      <td>0.084444</td>\n",
       "      <td>4.000000</td>\n",
       "      <td>0.650000</td>\n",
       "      <td>14.000000</td>\n",
       "      <td>1.000000</td>\n",
       "      <td>14.632500</td>\n",
       "      <td>2.000000</td>\n",
       "      <td>1.000000</td>\n",
       "      <td>27.000000</td>\n",
       "      <td>159.000000</td>\n",
       "      <td>0.000000</td>\n",
       "      <td>3.404028</td>\n",
       "    </tr>\n",
       "    <tr>\n",
       "      <th>75%</th>\n",
       "      <td>83.000000</td>\n",
       "      <td>255.000000</td>\n",
       "      <td>0.688681</td>\n",
       "      <td>9.000000</td>\n",
       "      <td>1.518542</td>\n",
       "      <td>29.000000</td>\n",
       "      <td>4.000000</td>\n",
       "      <td>88.545000</td>\n",
       "      <td>2.250000</td>\n",
       "      <td>3.000000</td>\n",
       "      <td>64.000000</td>\n",
       "      <td>353.250000</td>\n",
       "      <td>0.000000</td>\n",
       "      <td>7.464306</td>\n",
       "    </tr>\n",
       "    <tr>\n",
       "      <th>max</th>\n",
       "      <td>124.000000</td>\n",
       "      <td>289.000000</td>\n",
       "      <td>2.382222</td>\n",
       "      <td>27.000000</td>\n",
       "      <td>4.380556</td>\n",
       "      <td>75.000000</td>\n",
       "      <td>23.000000</td>\n",
       "      <td>1590.370000</td>\n",
       "      <td>3.000000</td>\n",
       "      <td>12.000000</td>\n",
       "      <td>275.000000</td>\n",
       "      <td>1602.000000</td>\n",
       "      <td>0.002656</td>\n",
       "      <td>25.661944</td>\n",
       "    </tr>\n",
       "  </tbody>\n",
       "</table>\n",
       "</div>"
      ],
      "text/plain": [
       "         Matricula    Conductor  TiempoParadaTotal  NumeroDeParadasTotal  \\\n",
       "count  1752.000000  1752.000000        1752.000000           1752.000000   \n",
       "mean     63.369863   163.062785           0.418474              5.931507   \n",
       "std      33.086860    96.481040           0.588328              5.273111   \n",
       "min       3.000000     1.000000           0.000000              1.000000   \n",
       "25%      48.000000    89.000000           0.000000              2.000000   \n",
       "50%      60.000000   187.000000           0.084444              4.000000   \n",
       "75%      83.000000   255.000000           0.688681              9.000000   \n",
       "max     124.000000   289.000000           2.382222             27.000000   \n",
       "\n",
       "       TiempoRalenti  NumeroDeParadasRalenti   HorasMotor  DistanciaRecorrida  \\\n",
       "count    1752.000000             1752.000000  1752.000000         1752.000000   \n",
       "mean        0.980078               18.429795     3.993721          221.499903   \n",
       "std         1.041250               15.809860     5.854652          430.019668   \n",
       "min         0.000000                1.000000     0.000000            0.010000   \n",
       "25%         0.100000                5.000000     0.000000            1.541250   \n",
       "50%         0.650000               14.000000     1.000000           14.632500   \n",
       "75%         1.518542               29.000000     4.000000           88.545000   \n",
       "max         4.380556               75.000000    23.000000         1590.370000   \n",
       "\n",
       "       ConsumoCombustible     Frenadas  PedalAcelerador     Embrague  \\\n",
       "count         1752.000000  1752.000000      1752.000000  1752.000000   \n",
       "mean             1.597603     2.037100        46.300228   275.457763   \n",
       "std              1.032678     2.748821        55.500918   317.865519   \n",
       "min              0.000000     0.000000         0.000000     1.000000   \n",
       "25%              1.000000     0.000000         4.750000    42.000000   \n",
       "50%              2.000000     1.000000        27.000000   159.000000   \n",
       "75%              2.250000     3.000000        64.000000   353.250000   \n",
       "max              3.000000    12.000000       275.000000  1602.000000   \n",
       "\n",
       "       ControlCrucero    TIME_RUTA  \n",
       "count     1752.000000  1752.000000  \n",
       "mean         0.000188     6.054263  \n",
       "std          0.000547     6.884162  \n",
       "min          0.000000     0.033333  \n",
       "25%          0.000000     1.289653  \n",
       "50%          0.000000     3.404028  \n",
       "75%          0.000000     7.464306  \n",
       "max          0.002656    25.661944  "
      ]
     },
     "execution_count": 41,
     "metadata": {},
     "output_type": "execute_result"
    }
   ],
   "source": [
    "datos.describe()"
   ]
  },
  {
   "cell_type": "code",
   "execution_count": 42,
   "metadata": {},
   "outputs": [],
   "source": [
    "# Cogemos las variables resultantes en VIF y son las que utilizamos para el modelo\n",
    "columnas = list(result.columns)\n",
    "y= datos['ConsumoCombustible']\n",
    "X = datos[columnas]"
   ]
  },
  {
   "cell_type": "code",
   "execution_count": 43,
   "metadata": {},
   "outputs": [
    {
     "data": {
      "text/plain": [
       "NRUTA\n",
       "962      1.0\n",
       "991      2.0\n",
       "992      1.0\n",
       "993      2.0\n",
       "995      1.0\n",
       "        ... \n",
       "27544    2.0\n",
       "27545    1.0\n",
       "27577    0.0\n",
       "28327    3.0\n",
       "28329    3.0\n",
       "Name: ConsumoCombustible, Length: 1752, dtype: float64"
      ]
     },
     "execution_count": 43,
     "metadata": {},
     "output_type": "execute_result"
    }
   ],
   "source": [
    "y"
   ]
  },
  {
   "cell_type": "raw",
   "metadata": {},
   "source": [
    "# La comentamos ya que al crear 4 clases para la target, al fijar modelo_1 Regresión Logística nos da el siguiente error\n",
    "# espera array de 1 dimensión\n",
    "# ValueError: y should be a 1d array, got an array of shape (1401, 4) instead.\n",
    "from sklearn import preprocessing\n",
    "y = preprocessing.label_binarize(y, classes=[0, 1, 2, 3])"
   ]
  },
  {
   "cell_type": "code",
   "execution_count": 44,
   "metadata": {},
   "outputs": [
    {
     "data": {
      "text/html": [
       "<div>\n",
       "<style scoped>\n",
       "    .dataframe tbody tr th:only-of-type {\n",
       "        vertical-align: middle;\n",
       "    }\n",
       "\n",
       "    .dataframe tbody tr th {\n",
       "        vertical-align: top;\n",
       "    }\n",
       "\n",
       "    .dataframe thead th {\n",
       "        text-align: right;\n",
       "    }\n",
       "</style>\n",
       "<table border=\"1\" class=\"dataframe\">\n",
       "  <thead>\n",
       "    <tr style=\"text-align: right;\">\n",
       "      <th></th>\n",
       "      <th>Matricula</th>\n",
       "      <th>Conductor</th>\n",
       "      <th>TiempoParadaTotal</th>\n",
       "      <th>NumeroDeParadasTotal</th>\n",
       "      <th>TiempoRalenti</th>\n",
       "      <th>NumeroDeParadasRalenti</th>\n",
       "      <th>HorasMotor</th>\n",
       "      <th>DistanciaRecorrida</th>\n",
       "      <th>ConsumoCombustible</th>\n",
       "      <th>Frenadas</th>\n",
       "      <th>PedalAcelerador</th>\n",
       "      <th>Embrague</th>\n",
       "      <th>ControlCrucero</th>\n",
       "      <th>TIME_RUTA</th>\n",
       "    </tr>\n",
       "    <tr>\n",
       "      <th>NRUTA</th>\n",
       "      <th></th>\n",
       "      <th></th>\n",
       "      <th></th>\n",
       "      <th></th>\n",
       "      <th></th>\n",
       "      <th></th>\n",
       "      <th></th>\n",
       "      <th></th>\n",
       "      <th></th>\n",
       "      <th></th>\n",
       "      <th></th>\n",
       "      <th></th>\n",
       "      <th></th>\n",
       "      <th></th>\n",
       "    </tr>\n",
       "  </thead>\n",
       "  <tbody>\n",
       "    <tr>\n",
       "      <th>962</th>\n",
       "      <td>3</td>\n",
       "      <td>174</td>\n",
       "      <td>0.612222</td>\n",
       "      <td>5</td>\n",
       "      <td>0.100000</td>\n",
       "      <td>3</td>\n",
       "      <td>1</td>\n",
       "      <td>1.610</td>\n",
       "      <td>1.0</td>\n",
       "      <td>0</td>\n",
       "      <td>9</td>\n",
       "      <td>68</td>\n",
       "      <td>0.0</td>\n",
       "      <td>1.526111</td>\n",
       "    </tr>\n",
       "    <tr>\n",
       "      <th>991</th>\n",
       "      <td>3</td>\n",
       "      <td>91</td>\n",
       "      <td>1.457222</td>\n",
       "      <td>1</td>\n",
       "      <td>0.950000</td>\n",
       "      <td>24</td>\n",
       "      <td>3</td>\n",
       "      <td>38.200</td>\n",
       "      <td>2.0</td>\n",
       "      <td>0</td>\n",
       "      <td>57</td>\n",
       "      <td>202</td>\n",
       "      <td>0.0</td>\n",
       "      <td>3.731389</td>\n",
       "    </tr>\n",
       "    <tr>\n",
       "      <th>992</th>\n",
       "      <td>3</td>\n",
       "      <td>91</td>\n",
       "      <td>0.070556</td>\n",
       "      <td>3</td>\n",
       "      <td>0.216667</td>\n",
       "      <td>7</td>\n",
       "      <td>0</td>\n",
       "      <td>8.590</td>\n",
       "      <td>1.0</td>\n",
       "      <td>1</td>\n",
       "      <td>30</td>\n",
       "      <td>88</td>\n",
       "      <td>0.0</td>\n",
       "      <td>0.751389</td>\n",
       "    </tr>\n",
       "    <tr>\n",
       "      <th>993</th>\n",
       "      <td>3</td>\n",
       "      <td>91</td>\n",
       "      <td>1.245000</td>\n",
       "      <td>1</td>\n",
       "      <td>0.183333</td>\n",
       "      <td>11</td>\n",
       "      <td>1</td>\n",
       "      <td>32.760</td>\n",
       "      <td>2.0</td>\n",
       "      <td>2</td>\n",
       "      <td>46</td>\n",
       "      <td>137</td>\n",
       "      <td>0.0</td>\n",
       "      <td>2.328333</td>\n",
       "    </tr>\n",
       "    <tr>\n",
       "      <th>995</th>\n",
       "      <td>3</td>\n",
       "      <td>91</td>\n",
       "      <td>0.000000</td>\n",
       "      <td>1</td>\n",
       "      <td>2.115556</td>\n",
       "      <td>7</td>\n",
       "      <td>0</td>\n",
       "      <td>1.290</td>\n",
       "      <td>1.0</td>\n",
       "      <td>0</td>\n",
       "      <td>1</td>\n",
       "      <td>36</td>\n",
       "      <td>0.0</td>\n",
       "      <td>2.298889</td>\n",
       "    </tr>\n",
       "    <tr>\n",
       "      <th>...</th>\n",
       "      <td>...</td>\n",
       "      <td>...</td>\n",
       "      <td>...</td>\n",
       "      <td>...</td>\n",
       "      <td>...</td>\n",
       "      <td>...</td>\n",
       "      <td>...</td>\n",
       "      <td>...</td>\n",
       "      <td>...</td>\n",
       "      <td>...</td>\n",
       "      <td>...</td>\n",
       "      <td>...</td>\n",
       "      <td>...</td>\n",
       "      <td>...</td>\n",
       "    </tr>\n",
       "    <tr>\n",
       "      <th>27544</th>\n",
       "      <td>117</td>\n",
       "      <td>1</td>\n",
       "      <td>2.358056</td>\n",
       "      <td>11</td>\n",
       "      <td>0.696667</td>\n",
       "      <td>13</td>\n",
       "      <td>2</td>\n",
       "      <td>55.880</td>\n",
       "      <td>2.0</td>\n",
       "      <td>3</td>\n",
       "      <td>102</td>\n",
       "      <td>229</td>\n",
       "      <td>0.0</td>\n",
       "      <td>5.043611</td>\n",
       "    </tr>\n",
       "    <tr>\n",
       "      <th>27545</th>\n",
       "      <td>117</td>\n",
       "      <td>1</td>\n",
       "      <td>0.066667</td>\n",
       "      <td>1</td>\n",
       "      <td>2.083333</td>\n",
       "      <td>10</td>\n",
       "      <td>2</td>\n",
       "      <td>2.650</td>\n",
       "      <td>1.0</td>\n",
       "      <td>0</td>\n",
       "      <td>13</td>\n",
       "      <td>50</td>\n",
       "      <td>0.0</td>\n",
       "      <td>2.492222</td>\n",
       "    </tr>\n",
       "    <tr>\n",
       "      <th>27577</th>\n",
       "      <td>118</td>\n",
       "      <td>91</td>\n",
       "      <td>0.000000</td>\n",
       "      <td>4</td>\n",
       "      <td>0.483333</td>\n",
       "      <td>37</td>\n",
       "      <td>2</td>\n",
       "      <td>68.085</td>\n",
       "      <td>0.0</td>\n",
       "      <td>8</td>\n",
       "      <td>111</td>\n",
       "      <td>250</td>\n",
       "      <td>0.0</td>\n",
       "      <td>4.120278</td>\n",
       "    </tr>\n",
       "    <tr>\n",
       "      <th>28327</th>\n",
       "      <td>124</td>\n",
       "      <td>277</td>\n",
       "      <td>0.000000</td>\n",
       "      <td>2</td>\n",
       "      <td>2.716667</td>\n",
       "      <td>33</td>\n",
       "      <td>9</td>\n",
       "      <td>456.545</td>\n",
       "      <td>3.0</td>\n",
       "      <td>12</td>\n",
       "      <td>179</td>\n",
       "      <td>539</td>\n",
       "      <td>0.0</td>\n",
       "      <td>10.167222</td>\n",
       "    </tr>\n",
       "    <tr>\n",
       "      <th>28329</th>\n",
       "      <td>124</td>\n",
       "      <td>277</td>\n",
       "      <td>0.000000</td>\n",
       "      <td>4</td>\n",
       "      <td>0.940833</td>\n",
       "      <td>21</td>\n",
       "      <td>7</td>\n",
       "      <td>432.805</td>\n",
       "      <td>3.0</td>\n",
       "      <td>4</td>\n",
       "      <td>99</td>\n",
       "      <td>320</td>\n",
       "      <td>0.0</td>\n",
       "      <td>7.695278</td>\n",
       "    </tr>\n",
       "  </tbody>\n",
       "</table>\n",
       "<p>1752 rows × 14 columns</p>\n",
       "</div>"
      ],
      "text/plain": [
       "       Matricula  Conductor  TiempoParadaTotal  NumeroDeParadasTotal  \\\n",
       "NRUTA                                                                  \n",
       "962            3        174           0.612222                     5   \n",
       "991            3         91           1.457222                     1   \n",
       "992            3         91           0.070556                     3   \n",
       "993            3         91           1.245000                     1   \n",
       "995            3         91           0.000000                     1   \n",
       "...          ...        ...                ...                   ...   \n",
       "27544        117          1           2.358056                    11   \n",
       "27545        117          1           0.066667                     1   \n",
       "27577        118         91           0.000000                     4   \n",
       "28327        124        277           0.000000                     2   \n",
       "28329        124        277           0.000000                     4   \n",
       "\n",
       "       TiempoRalenti  NumeroDeParadasRalenti  HorasMotor  DistanciaRecorrida  \\\n",
       "NRUTA                                                                          \n",
       "962         0.100000                       3           1               1.610   \n",
       "991         0.950000                      24           3              38.200   \n",
       "992         0.216667                       7           0               8.590   \n",
       "993         0.183333                      11           1              32.760   \n",
       "995         2.115556                       7           0               1.290   \n",
       "...              ...                     ...         ...                 ...   \n",
       "27544       0.696667                      13           2              55.880   \n",
       "27545       2.083333                      10           2               2.650   \n",
       "27577       0.483333                      37           2              68.085   \n",
       "28327       2.716667                      33           9             456.545   \n",
       "28329       0.940833                      21           7             432.805   \n",
       "\n",
       "       ConsumoCombustible  Frenadas  PedalAcelerador  Embrague  \\\n",
       "NRUTA                                                            \n",
       "962                   1.0         0                9        68   \n",
       "991                   2.0         0               57       202   \n",
       "992                   1.0         1               30        88   \n",
       "993                   2.0         2               46       137   \n",
       "995                   1.0         0                1        36   \n",
       "...                   ...       ...              ...       ...   \n",
       "27544                 2.0         3              102       229   \n",
       "27545                 1.0         0               13        50   \n",
       "27577                 0.0         8              111       250   \n",
       "28327                 3.0        12              179       539   \n",
       "28329                 3.0         4               99       320   \n",
       "\n",
       "       ControlCrucero  TIME_RUTA  \n",
       "NRUTA                             \n",
       "962               0.0   1.526111  \n",
       "991               0.0   3.731389  \n",
       "992               0.0   0.751389  \n",
       "993               0.0   2.328333  \n",
       "995               0.0   2.298889  \n",
       "...               ...        ...  \n",
       "27544             0.0   5.043611  \n",
       "27545             0.0   2.492222  \n",
       "27577             0.0   4.120278  \n",
       "28327             0.0  10.167222  \n",
       "28329             0.0   7.695278  \n",
       "\n",
       "[1752 rows x 14 columns]"
      ]
     },
     "execution_count": 44,
     "metadata": {},
     "output_type": "execute_result"
    }
   ],
   "source": [
    "datos"
   ]
  },
  {
   "cell_type": "markdown",
   "metadata": {},
   "source": [
    "## Modelos\n",
    "### Conjuntos de Train y Test"
   ]
  },
  {
   "cell_type": "code",
   "execution_count": 45,
   "metadata": {},
   "outputs": [],
   "source": [
    "X_train, X_test, y_train, y_test = train_test_split(X ,\n",
    "                                                    y,\n",
    "                                                    test_size= 0.2,\n",
    "                                                    random_state= 45,\n",
    "                                                    stratify = y)"
   ]
  },
  {
   "cell_type": "raw",
   "metadata": {},
   "source": [
    "print(\"Partición de entrenamento\")\n",
    "print(\"-----------------------\")\n",
    "print(y_train.describe())"
   ]
  },
  {
   "cell_type": "raw",
   "metadata": {},
   "source": [
    "print(\"Partición de test\")\n",
    "print(\"-----------------------\")\n",
    "print(y_test.describe())"
   ]
  },
  {
   "cell_type": "code",
   "execution_count": 46,
   "metadata": {},
   "outputs": [
    {
     "name": "stderr",
     "output_type": "stream",
     "text": [
      "C:\\Users\\Equipo\\anaconda3\\lib\\site-packages\\sklearn\\utils\\deprecation.py:143: FutureWarning: The sklearn.linear_model.logistic module is  deprecated in version 0.22 and will be removed in version 0.24. The corresponding classes / functions should instead be imported from sklearn.linear_model. Anything that cannot be imported from sklearn.linear_model is now part of the private API.\n",
      "  warnings.warn(message, FutureWarning)\n"
     ]
    }
   ],
   "source": [
    "from sklearn.linear_model.logistic import LogisticRegression\n",
    "from sklearn.tree import DecisionTreeClassifier\n",
    "from sklearn.ensemble import RandomForestClassifier\n",
    "from xgboost import XGBClassifier### MODELO\n",
    "from sklearn.metrics import accuracy_score, auc, confusion_matrix, f1_score, precision_score, recall_score, roc_curve\n",
    "from sklearn.model_selection import cross_val_score\n",
    "from sklearn.linear_model import LinearRegression\n",
    "from pandas.plotting import scatter_matrix\n",
    "from sklearn.feature_selection import VarianceThreshold\n",
    "from sklearn.feature_selection import SelectKBest\n",
    "from sklearn.feature_selection import f_regression \n",
    "from sklearn.feature_selection import chi2 "
   ]
  },
  {
   "cell_type": "markdown",
   "metadata": {},
   "source": [
    "### Regresión Logística"
   ]
  },
  {
   "cell_type": "code",
   "execution_count": 47,
   "metadata": {},
   "outputs": [
    {
     "name": "stderr",
     "output_type": "stream",
     "text": [
      "C:\\Users\\Equipo\\anaconda3\\lib\\site-packages\\sklearn\\linear_model\\_logistic.py:764: ConvergenceWarning: lbfgs failed to converge (status=1):\n",
      "STOP: TOTAL NO. of ITERATIONS REACHED LIMIT.\n",
      "\n",
      "Increase the number of iterations (max_iter) or scale the data as shown in:\n",
      "    https://scikit-learn.org/stable/modules/preprocessing.html\n",
      "Please also refer to the documentation for alternative solver options:\n",
      "    https://scikit-learn.org/stable/modules/linear_model.html#logistic-regression\n",
      "  extra_warning_msg=_LOGISTIC_SOLVER_CONVERGENCE_MSG)\n"
     ]
    }
   ],
   "source": [
    "modelo_1 = LogisticRegression(random_state = 111).fit(X_train, y_train)\n",
    "\n",
    "#regressor.predict([[x_test]])"
   ]
  },
  {
   "cell_type": "code",
   "execution_count": 48,
   "metadata": {},
   "outputs": [],
   "source": [
    "y_pred = modelo_1.predict(X_test)"
   ]
  },
  {
   "cell_type": "code",
   "execution_count": 49,
   "metadata": {},
   "outputs": [],
   "source": [
    "def saca_metricas(y1, y2):\n",
    "    print('matriz de confusión')\n",
    "    print(confusion_matrix(y1, y2))\n",
    "    print('accuracy')\n",
    "    print(accuracy_score(y1, y2))\n",
    "    print('precision')\n",
    "    print(precision_score(y1, y2, average = \"weighted\"))\n",
    "    print('recall')\n",
    "    print(recall_score(y1, y2, average = \"weighted\"))\n",
    "    print('f1')\n",
    "    print(f1_score(y1, y2, average = \"weighted\"))\n",
    "    # No pintamos curva ROC ya que es solo para clasificaci\n",
    "    #false_positive_rate, recall, thresholds = roc_curve(y1, y2)\n",
    "    #roc_auc = auc(false_positive_rate, recall)\n",
    "    #print('AUC')\n",
    "    #print(roc_auc)\n",
    "    #plt.plot(false_positive_rate, recall, 'b')\n",
    "    #plt.plot([0, 1], [0, 1], 'r--')\n",
    "    #plt.title('AUC = %0.2f' % roc_auc)"
   ]
  },
  {
   "cell_type": "code",
   "execution_count": 50,
   "metadata": {},
   "outputs": [
    {
     "name": "stdout",
     "output_type": "stream",
     "text": [
      "matriz de confusión\n",
      "[[  1  45   0  11]\n",
      " [  0 105  10   0]\n",
      " [  5   8  72   6]\n",
      " [  4   0  14  70]]\n",
      "accuracy\n",
      "0.7065527065527065\n",
      "precision\n",
      "0.6301385992423385\n",
      "recall\n",
      "0.7065527065527065\n",
      "f1\n",
      "0.6570880265214026\n"
     ]
    }
   ],
   "source": [
    "saca_metricas(y_test, y_pred)"
   ]
  },
  {
   "cell_type": "markdown",
   "metadata": {},
   "source": [
    "#### Score del modelo y  Validación Cruzada con su media y desviación estandar para modelo_1 Regresión Logística"
   ]
  },
  {
   "cell_type": "code",
   "execution_count": 51,
   "metadata": {},
   "outputs": [
    {
     "data": {
      "text/plain": [
       "0.6786529680365296"
      ]
     },
     "execution_count": 51,
     "metadata": {},
     "output_type": "execute_result"
    }
   ],
   "source": [
    "modelo_1.score(X, y)"
   ]
  },
  {
   "cell_type": "code",
   "execution_count": 52,
   "metadata": {},
   "outputs": [
    {
     "name": "stderr",
     "output_type": "stream",
     "text": [
      "C:\\Users\\Equipo\\anaconda3\\lib\\site-packages\\sklearn\\linear_model\\_logistic.py:764: ConvergenceWarning: lbfgs failed to converge (status=1):\n",
      "STOP: TOTAL NO. of ITERATIONS REACHED LIMIT.\n",
      "\n",
      "Increase the number of iterations (max_iter) or scale the data as shown in:\n",
      "    https://scikit-learn.org/stable/modules/preprocessing.html\n",
      "Please also refer to the documentation for alternative solver options:\n",
      "    https://scikit-learn.org/stable/modules/linear_model.html#logistic-regression\n",
      "  extra_warning_msg=_LOGISTIC_SOLVER_CONVERGENCE_MSG)\n",
      "C:\\Users\\Equipo\\anaconda3\\lib\\site-packages\\sklearn\\linear_model\\_logistic.py:764: ConvergenceWarning: lbfgs failed to converge (status=1):\n",
      "STOP: TOTAL NO. of ITERATIONS REACHED LIMIT.\n",
      "\n",
      "Increase the number of iterations (max_iter) or scale the data as shown in:\n",
      "    https://scikit-learn.org/stable/modules/preprocessing.html\n",
      "Please also refer to the documentation for alternative solver options:\n",
      "    https://scikit-learn.org/stable/modules/linear_model.html#logistic-regression\n",
      "  extra_warning_msg=_LOGISTIC_SOLVER_CONVERGENCE_MSG)\n",
      "C:\\Users\\Equipo\\anaconda3\\lib\\site-packages\\sklearn\\linear_model\\_logistic.py:764: ConvergenceWarning: lbfgs failed to converge (status=1):\n",
      "STOP: TOTAL NO. of ITERATIONS REACHED LIMIT.\n",
      "\n",
      "Increase the number of iterations (max_iter) or scale the data as shown in:\n",
      "    https://scikit-learn.org/stable/modules/preprocessing.html\n",
      "Please also refer to the documentation for alternative solver options:\n",
      "    https://scikit-learn.org/stable/modules/linear_model.html#logistic-regression\n",
      "  extra_warning_msg=_LOGISTIC_SOLVER_CONVERGENCE_MSG)\n",
      "C:\\Users\\Equipo\\anaconda3\\lib\\site-packages\\sklearn\\linear_model\\_logistic.py:764: ConvergenceWarning: lbfgs failed to converge (status=1):\n",
      "STOP: TOTAL NO. of ITERATIONS REACHED LIMIT.\n",
      "\n",
      "Increase the number of iterations (max_iter) or scale the data as shown in:\n",
      "    https://scikit-learn.org/stable/modules/preprocessing.html\n",
      "Please also refer to the documentation for alternative solver options:\n",
      "    https://scikit-learn.org/stable/modules/linear_model.html#logistic-regression\n",
      "  extra_warning_msg=_LOGISTIC_SOLVER_CONVERGENCE_MSG)\n",
      "C:\\Users\\Equipo\\anaconda3\\lib\\site-packages\\sklearn\\linear_model\\_logistic.py:764: ConvergenceWarning: lbfgs failed to converge (status=1):\n",
      "STOP: TOTAL NO. of ITERATIONS REACHED LIMIT.\n",
      "\n",
      "Increase the number of iterations (max_iter) or scale the data as shown in:\n",
      "    https://scikit-learn.org/stable/modules/preprocessing.html\n",
      "Please also refer to the documentation for alternative solver options:\n",
      "    https://scikit-learn.org/stable/modules/linear_model.html#logistic-regression\n",
      "  extra_warning_msg=_LOGISTIC_SOLVER_CONVERGENCE_MSG)\n"
     ]
    }
   ],
   "source": [
    "results_1 = cross_val_score(estimator=modelo_1, X=X_train, y=y_train, cv=5)"
   ]
  },
  {
   "cell_type": "code",
   "execution_count": 53,
   "metadata": {},
   "outputs": [
    {
     "data": {
      "text/plain": [
       "array([0.71174377, 0.675     , 0.66071429, 0.66428571, 0.63214286])"
      ]
     },
     "execution_count": 53,
     "metadata": {},
     "output_type": "execute_result"
    }
   ],
   "source": [
    "results_1"
   ]
  },
  {
   "cell_type": "code",
   "execution_count": 54,
   "metadata": {},
   "outputs": [
    {
     "name": "stdout",
     "output_type": "stream",
     "text": [
      "La media de resultados de validación cruzada 5 es de : 0.66877732587697\n"
     ]
    }
   ],
   "source": [
    "print(\"La media de resultados de validación cruzada 5 es de : \" + str(results_1.mean()))"
   ]
  },
  {
   "cell_type": "code",
   "execution_count": 55,
   "metadata": {},
   "outputs": [
    {
     "name": "stdout",
     "output_type": "stream",
     "text": [
      "La desviación estándar de resultados de validación cruzada 5 es de : 0.025737554962592217\n"
     ]
    }
   ],
   "source": [
    "print(\"La desviación estándar de resultados de validación cruzada 5 es de : \" + str(results_1.std()))"
   ]
  },
  {
   "cell_type": "markdown",
   "metadata": {},
   "source": [
    "###  Árbol de decisión"
   ]
  },
  {
   "cell_type": "code",
   "execution_count": 56,
   "metadata": {},
   "outputs": [],
   "source": [
    "modelo_2 = DecisionTreeClassifier(random_state = 222).fit(X_train, y_train)\n",
    "y_pred        = modelo_2.predict(X_test)"
   ]
  },
  {
   "cell_type": "code",
   "execution_count": 57,
   "metadata": {},
   "outputs": [
    {
     "name": "stdout",
     "output_type": "stream",
     "text": [
      "matriz de confusión\n",
      "[[45 12  0  0]\n",
      " [19 88  8  0]\n",
      " [ 1  4 83  3]\n",
      " [ 0  0  6 82]]\n",
      "accuracy\n",
      "0.8490028490028491\n",
      "precision\n",
      "0.8533599082556492\n",
      "recall\n",
      "0.8490028490028491\n",
      "f1\n",
      "0.8496931646717266\n"
     ]
    }
   ],
   "source": [
    "saca_metricas(y_test, y_pred)"
   ]
  },
  {
   "cell_type": "markdown",
   "metadata": {},
   "source": [
    "####  Score del modelo y  Validación Cruzada con su media y desviación estandar para modelo_2  Árbol de decisión"
   ]
  },
  {
   "cell_type": "code",
   "execution_count": 58,
   "metadata": {},
   "outputs": [
    {
     "data": {
      "text/plain": [
       "0.9697488584474886"
      ]
     },
     "execution_count": 58,
     "metadata": {},
     "output_type": "execute_result"
    }
   ],
   "source": [
    "modelo_2.score(X, y)"
   ]
  },
  {
   "cell_type": "code",
   "execution_count": 59,
   "metadata": {},
   "outputs": [],
   "source": [
    "results_2 = cross_val_score(estimator=modelo_2, X=X_train, y=y_train, cv=5)"
   ]
  },
  {
   "cell_type": "code",
   "execution_count": 60,
   "metadata": {},
   "outputs": [
    {
     "data": {
      "text/plain": [
       "array([0.81494662, 0.87857143, 0.86785714, 0.85      , 0.80714286])"
      ]
     },
     "execution_count": 60,
     "metadata": {},
     "output_type": "execute_result"
    }
   ],
   "source": [
    "results_2"
   ]
  },
  {
   "cell_type": "code",
   "execution_count": 61,
   "metadata": {},
   "outputs": [
    {
     "name": "stdout",
     "output_type": "stream",
     "text": [
      "La media de resultados de validación cruzada 5 es de : 0.8437036095577021\n"
     ]
    }
   ],
   "source": [
    "print(\"La media de resultados de validación cruzada 5 es de : \" + str(results_2.mean()))"
   ]
  },
  {
   "cell_type": "code",
   "execution_count": 62,
   "metadata": {},
   "outputs": [
    {
     "name": "stdout",
     "output_type": "stream",
     "text": [
      "La desviación estándar de resultados de validación cruzada 5 es de : 0.02829295183190737\n"
     ]
    }
   ],
   "source": [
    "print(\"La desviación estándar de resultados de validación cruzada 5 es de : \" + str(results_2.std()))"
   ]
  },
  {
   "cell_type": "markdown",
   "metadata": {},
   "source": [
    "### Ramdon Forest"
   ]
  },
  {
   "cell_type": "code",
   "execution_count": 63,
   "metadata": {},
   "outputs": [],
   "source": [
    "modelo_3 = RandomForestClassifier(random_state = 333).fit(X_train, y_train)\n",
    "y_pred        = modelo_3.predict(X_test)"
   ]
  },
  {
   "cell_type": "code",
   "execution_count": 64,
   "metadata": {},
   "outputs": [
    {
     "name": "stdout",
     "output_type": "stream",
     "text": [
      "matriz de confusión\n",
      "[[43 14  0  0]\n",
      " [11 99  5  0]\n",
      " [ 0  2 86  3]\n",
      " [ 0  0  8 80]]\n",
      "accuracy\n",
      "0.8774928774928775\n",
      "precision\n",
      "0.878229832045093\n",
      "recall\n",
      "0.8774928774928775\n",
      "f1\n",
      "0.8771518256898373\n"
     ]
    }
   ],
   "source": [
    "saca_metricas(y_test, y_pred)"
   ]
  },
  {
   "cell_type": "markdown",
   "metadata": {},
   "source": [
    "####  Score del modelo y  Validación Cruzada con su media y desviación estandar para modelo_3  Ramdon Forest"
   ]
  },
  {
   "cell_type": "code",
   "execution_count": 65,
   "metadata": {},
   "outputs": [
    {
     "data": {
      "text/plain": [
       "0.9754566210045662"
      ]
     },
     "execution_count": 65,
     "metadata": {},
     "output_type": "execute_result"
    }
   ],
   "source": [
    "modelo_3.score(X, y)"
   ]
  },
  {
   "cell_type": "code",
   "execution_count": 66,
   "metadata": {},
   "outputs": [],
   "source": [
    "results_3 = cross_val_score(estimator=modelo_3, X=X_train, y=y_train, cv=5)"
   ]
  },
  {
   "cell_type": "code",
   "execution_count": 67,
   "metadata": {},
   "outputs": [
    {
     "data": {
      "text/plain": [
       "array([0.886121  , 0.90357143, 0.88571429, 0.87142857, 0.84642857])"
      ]
     },
     "execution_count": 67,
     "metadata": {},
     "output_type": "execute_result"
    }
   ],
   "source": [
    "results_3"
   ]
  },
  {
   "cell_type": "code",
   "execution_count": 68,
   "metadata": {},
   "outputs": [
    {
     "name": "stdout",
     "output_type": "stream",
     "text": [
      "La media de resultados de validación cruzada 5 es de : 0.8786527707168276\n"
     ]
    }
   ],
   "source": [
    "print(\"La media de resultados de validación cruzada 5 es de : \" + str(results_3.mean()))"
   ]
  },
  {
   "cell_type": "code",
   "execution_count": 69,
   "metadata": {},
   "outputs": [
    {
     "name": "stdout",
     "output_type": "stream",
     "text": [
      "La desviación estándar de resultados de validación cruzada 5 es de : 0.019063929153934\n"
     ]
    }
   ],
   "source": [
    "print(\"La desviación estándar de resultados de validación cruzada 5 es de : \" + str(results_3.std()))"
   ]
  },
  {
   "cell_type": "markdown",
   "metadata": {},
   "source": [
    "Vamos a probar cambiando profundidad "
   ]
  },
  {
   "cell_type": "code",
   "execution_count": 70,
   "metadata": {},
   "outputs": [],
   "source": [
    "modelo_4 = RandomForestClassifier(max_depth = 12, random_state = 444).fit(X_train, y_train)\n",
    "y_pred        = modelo_4.predict(X_test)"
   ]
  },
  {
   "cell_type": "code",
   "execution_count": 71,
   "metadata": {},
   "outputs": [
    {
     "name": "stdout",
     "output_type": "stream",
     "text": [
      "matriz de confusión\n",
      "[[ 40  16   0   1]\n",
      " [  9 103   3   0]\n",
      " [  0   2  86   3]\n",
      " [  0   0   8  80]]\n",
      "accuracy\n",
      "0.8803418803418803\n",
      "precision\n",
      "0.8800943316496491\n",
      "recall\n",
      "0.8803418803418803\n",
      "f1\n",
      "0.8789629861024129\n"
     ]
    }
   ],
   "source": [
    "saca_metricas(y_test, y_pred)"
   ]
  },
  {
   "cell_type": "markdown",
   "metadata": {},
   "source": [
    "#### Score  del modelo y  Validación Cruzada con su media y desviación estandar para modelo_4  Ramdon Forest con profundidad 12"
   ]
  },
  {
   "cell_type": "code",
   "execution_count": 72,
   "metadata": {},
   "outputs": [
    {
     "data": {
      "text/plain": [
       "0.976027397260274"
      ]
     },
     "execution_count": 72,
     "metadata": {},
     "output_type": "execute_result"
    }
   ],
   "source": [
    "modelo_4.score(X, y)"
   ]
  },
  {
   "cell_type": "code",
   "execution_count": 73,
   "metadata": {},
   "outputs": [],
   "source": [
    "results_4 = cross_val_score(estimator=modelo_4, X=X_train, y=y_train, cv=5)\n"
   ]
  },
  {
   "cell_type": "code",
   "execution_count": 74,
   "metadata": {},
   "outputs": [
    {
     "data": {
      "text/plain": [
       "array([0.86476868, 0.88571429, 0.88928571, 0.85714286, 0.86071429])"
      ]
     },
     "execution_count": 74,
     "metadata": {},
     "output_type": "execute_result"
    }
   ],
   "source": [
    "results_4"
   ]
  },
  {
   "cell_type": "code",
   "execution_count": 75,
   "metadata": {},
   "outputs": [
    {
     "name": "stdout",
     "output_type": "stream",
     "text": [
      "La media de resultados de validación cruzada 5 es de : 0.8715251652262328\n"
     ]
    }
   ],
   "source": [
    "print(\"La media de resultados de validación cruzada 5 es de : \" + str(results_4.mean()))"
   ]
  },
  {
   "cell_type": "code",
   "execution_count": 76,
   "metadata": {},
   "outputs": [
    {
     "name": "stdout",
     "output_type": "stream",
     "text": [
      "La desviación estándar de resultados de validación cruzada 5 es de : 0.013312732199787226\n"
     ]
    }
   ],
   "source": [
    "print(\"La desviación estándar de resultados de validación cruzada 5 es de : \" + str(results_4.std()))"
   ]
  },
  {
   "cell_type": "markdown",
   "metadata": {},
   "source": [
    "### SVC"
   ]
  },
  {
   "cell_type": "code",
   "execution_count": 77,
   "metadata": {},
   "outputs": [],
   "source": [
    "from sklearn.svm import SVC\n",
    "modelo_5 = SVC(random_state = 555).fit(X_train, y_train)\n",
    "y_pred         = modelo_5.predict(X_test)\n",
    "\n"
   ]
  },
  {
   "cell_type": "code",
   "execution_count": 78,
   "metadata": {},
   "outputs": [
    {
     "name": "stdout",
     "output_type": "stream",
     "text": [
      "matriz de confusión\n",
      "[[ 12  45   0   0]\n",
      " [  0 112   3   0]\n",
      " [  0  19  72   0]\n",
      " [  1   0  16  71]]\n",
      "accuracy\n",
      "0.7606837606837606\n",
      "precision\n",
      "0.8142370450062757\n",
      "recall\n",
      "0.7606837606837606\n",
      "f1\n",
      "0.7369127888352424\n"
     ]
    }
   ],
   "source": [
    "saca_metricas(y_test, y_pred)"
   ]
  },
  {
   "cell_type": "markdown",
   "metadata": {},
   "source": [
    "#### Score  del modelo y  Validación Cruzada con su media y desviación estandar para modelo_5 SVC"
   ]
  },
  {
   "cell_type": "code",
   "execution_count": 79,
   "metadata": {},
   "outputs": [
    {
     "data": {
      "text/plain": [
       "0.7505707762557078"
      ]
     },
     "execution_count": 79,
     "metadata": {},
     "output_type": "execute_result"
    }
   ],
   "source": [
    "modelo_5.score(X, y)"
   ]
  },
  {
   "cell_type": "code",
   "execution_count": 80,
   "metadata": {},
   "outputs": [],
   "source": [
    "results_5 = cross_val_score(estimator=modelo_5, X=X_train, y=y_train, cv=5)"
   ]
  },
  {
   "cell_type": "code",
   "execution_count": 81,
   "metadata": {},
   "outputs": [
    {
     "data": {
      "text/plain": [
       "array([0.74733096, 0.76071429, 0.73571429, 0.75357143, 0.69642857])"
      ]
     },
     "execution_count": 81,
     "metadata": {},
     "output_type": "execute_result"
    }
   ],
   "source": [
    "results_5"
   ]
  },
  {
   "cell_type": "code",
   "execution_count": 82,
   "metadata": {},
   "outputs": [
    {
     "name": "stdout",
     "output_type": "stream",
     "text": [
      "La media de resultados de validación cruzada 5 es de : 0.7387519064565329\n"
     ]
    }
   ],
   "source": [
    "print(\"La media de resultados de validación cruzada 5 es de : \" + str(results_5.mean()))"
   ]
  },
  {
   "cell_type": "code",
   "execution_count": 83,
   "metadata": {},
   "outputs": [
    {
     "name": "stdout",
     "output_type": "stream",
     "text": [
      "La desviación estándar de resultados de validación cruzada 5 es de : 0.022698265750467995\n"
     ]
    }
   ],
   "source": [
    "print(\"La desviación estándar de resultados de validación cruzada 5 es de : \" + str(results_5.std()))"
   ]
  },
  {
   "cell_type": "markdown",
   "metadata": {},
   "source": [
    "### XGBoost"
   ]
  },
  {
   "cell_type": "code",
   "execution_count": 84,
   "metadata": {},
   "outputs": [],
   "source": [
    "modelo_6 = XGBClassifier(random_state = 666).fit(X_train, y_train)\n",
    "y_pred   = modelo_6.predict(X_test)"
   ]
  },
  {
   "cell_type": "code",
   "execution_count": 85,
   "metadata": {},
   "outputs": [
    {
     "name": "stdout",
     "output_type": "stream",
     "text": [
      "matriz de confusión\n",
      "[[ 45  12   0   0]\n",
      " [  8 101   6   0]\n",
      " [  0   2  85   4]\n",
      " [  0   0   7  81]]\n",
      "accuracy\n",
      "0.8888888888888888\n",
      "precision\n",
      "0.8894120267039246\n",
      "recall\n",
      "0.8888888888888888\n",
      "f1\n",
      "0.888583589075989\n"
     ]
    }
   ],
   "source": [
    "saca_metricas(y_test, y_pred)"
   ]
  },
  {
   "cell_type": "markdown",
   "metadata": {},
   "source": [
    "#### Score  del modelo y  Validación Cruzada con su media y desviación estandar para modelo_6  XGBoost"
   ]
  },
  {
   "cell_type": "code",
   "execution_count": 86,
   "metadata": {},
   "outputs": [
    {
     "data": {
      "text/plain": [
       "0.9777397260273972"
      ]
     },
     "execution_count": 86,
     "metadata": {},
     "output_type": "execute_result"
    }
   ],
   "source": [
    "modelo_6.score(X, y)"
   ]
  },
  {
   "cell_type": "code",
   "execution_count": 87,
   "metadata": {},
   "outputs": [],
   "source": [
    "results_6 = cross_val_score(estimator=modelo_6, X=X_train, y=y_train, cv=5)"
   ]
  },
  {
   "cell_type": "code",
   "execution_count": 88,
   "metadata": {},
   "outputs": [
    {
     "data": {
      "text/plain": [
       "array([0.87900356, 0.88928571, 0.90357143, 0.87857143, 0.84285714])"
      ]
     },
     "execution_count": 88,
     "metadata": {},
     "output_type": "execute_result"
    }
   ],
   "source": [
    "results_6"
   ]
  },
  {
   "cell_type": "code",
   "execution_count": 89,
   "metadata": {},
   "outputs": [
    {
     "name": "stdout",
     "output_type": "stream",
     "text": [
      "La media de resultados de validación cruzada 5 es de : 0.8786578546009152\n"
     ]
    }
   ],
   "source": [
    "print(\"La media de resultados de validación cruzada 5 es de : \" + str(results_6.mean()))"
   ]
  },
  {
   "cell_type": "code",
   "execution_count": 90,
   "metadata": {},
   "outputs": [
    {
     "name": "stdout",
     "output_type": "stream",
     "text": [
      "La desviación estándar de resultados de validación cruzada 5 es de : 0.020077128836666038\n"
     ]
    }
   ],
   "source": [
    "print(\"La desviación estándar de resultados de validación cruzada 5 es de : \" + str(results_6.std()))"
   ]
  },
  {
   "cell_type": "markdown",
   "metadata": {},
   "source": [
    "Una vez realizados los modelos y habiendo comparado sus métricas,vemos que el modelo_6 **XGBoost** y el modelo_4 **RandomForest** con profundidad 12, son los que mejores métricas tienen, en ambos casos muy parecidas. En el resto de modelos también hemos tenido buenas métricas aunque algo inferiores, excepto modelo_1 **Regresión Logística** y modelo_5 **SVC** que da las peores. \n",
    "\n",
    "También hemos realizado validación cruzada para determinar cómo de bueno será el modelo y si existiese sobreajuste de este sobre un conjunto de entrenamiento dado, además nos muestra una varianza muy baja pese a entrenarse 5 veces con 5 subsets random, lo que nos indica que no ha sido una predicción casual y que no existe sobrea ajuste del modelo.\n",
    "\n",
    "Por lo tanto continuamos con el modelo_6 **XGBoost**.\n",
    "\n",
    "Recordemos la información que nos aportan las métricas, **accuracy** mide el porcentaje de casos que el modelo ha acertado, en nuestro caso nos podemos fíar ya que hemos balanceado la variable predictora **y** al crear el conjunto con stratify = y,  **precision** mide la calidad del modelo, en tarea de clasificación, en nuestro caso significa que el modelo acertará casi un 89% de las veces cuando prediga en que rango estará el consumo de combustible, **recall**, también conocido como Tasa de verdaderos positivos, nos informa sobre la proporción de casos positivos que fueron correctamente identificados por el modelo, practicamente 9 de cada 10,  **f1** combina **precision** y **recall** en una sola medida."
   ]
  },
  {
   "cell_type": "markdown",
   "metadata": {},
   "source": [
    "#### Selección de variables"
   ]
  },
  {
   "cell_type": "markdown",
   "metadata": {},
   "source": [
    "#### Ánalisis univariante"
   ]
  },
  {
   "cell_type": "code",
   "execution_count": 91,
   "metadata": {},
   "outputs": [
    {
     "name": "stdout",
     "output_type": "stream",
     "text": [
      "Listado de variables  ['Conductor' 'NumeroDeParadasTotal' 'DistanciaRecorrida' 'Frenadas'\n",
      " 'PedalAcelerador']\n"
     ]
    }
   ],
   "source": [
    "# 5 variables\n",
    "S_chi5 = SelectKBest(chi2, k = 5).fit(X_train,y_train)\n",
    "_X_train_= S_chi5.transform(X_train)\n",
    "_X_test_= S_chi5.transform(X_test)\n",
    "print (\"Listado de variables \", np.asarray(list(X))[S_chi5.get_support()])"
   ]
  },
  {
   "cell_type": "code",
   "execution_count": 92,
   "metadata": {},
   "outputs": [
    {
     "name": "stdout",
     "output_type": "stream",
     "text": [
      "Listado de variables  ['Matricula' 'Conductor' 'TiempoParadaTotal' 'NumeroDeParadasTotal'\n",
      " 'TiempoRalenti' 'DistanciaRecorrida' 'Frenadas' 'PedalAcelerador'\n",
      " 'ControlCrucero']\n"
     ]
    }
   ],
   "source": [
    "# 9 variables, son todaas las del modelo, no tiene mucho sentido\n",
    "S_chi9 = SelectKBest(chi2, k = 9).fit(X_train,y_train)\n",
    "_X_train_= S_chi9.transform(X_train)\n",
    "_X_test_= S_chi9.transform(X_test)\n",
    "print (\"Listado de variables \", np.asarray(list(X))[S_chi9.get_support()])"
   ]
  },
  {
   "cell_type": "markdown",
   "metadata": {},
   "source": [
    "#### Fordward Stepwise"
   ]
  },
  {
   "cell_type": "markdown",
   "metadata": {},
   "source": [
    "Nos va introduciendo las variables de mayor correlación con la objetivo."
   ]
  },
  {
   "cell_type": "code",
   "execution_count": 93,
   "metadata": {},
   "outputs": [
    {
     "name": "stdout",
     "output_type": "stream",
     "text": [
      "En el paso 0 se ha insertado la variable DistanciaRecorrida con un error 0.5547001962252291\n",
      "En el paso 1 se ha insertado la variable Conductor con un error 0.4202834479707435\n",
      "En el paso 2 se ha insertado la variable TiempoRalenti con un error 0.36592777142919053\n",
      "En el paso 3 se ha insertado la variable PedalAcelerador con un error 0.31123318728261756\n",
      "En el paso 4 se ha insertado la variable Matricula con un error 0.3066220703359333\n",
      "En el paso 5 se ha insertado la variable ControlCrucero con un error 0.3066220703359333\n",
      "En el paso 6 se ha insertado la variable Frenadas con un error 0.31577697781044733\n",
      "En el paso 7 se ha insertado la variable TiempoParadaTotal con un error 0.32467384467047145\n",
      "En el paso 8 se ha insertado la variable NumeroDeParadasTotal con un error 0.31123318728261756\n"
     ]
    }
   ],
   "source": [
    "model         = XGBClassifier()\n",
    "features      = list(X.columns)\n",
    "feature_order = []\n",
    "feature_error = []\n",
    "\n",
    "for i in range(len(features)):\n",
    "    idx_try = [val for val in range(len(features)) if val not in feature_order]\n",
    "    iter_error = []\n",
    "\n",
    "    for i_try in idx_try:\n",
    "        useRow = feature_order[:]\n",
    "        useRow.append(i_try)\n",
    "\n",
    "        use_train = X_train[X_train.columns[useRow]]\n",
    "        use_test = X_test[X_train.columns[useRow]]\n",
    "\n",
    "        model.fit(use_train, y_train)\n",
    "        rmsError = np.linalg.norm((y_test - model.predict(use_test)), 2)/np.sqrt(len(y_test))\n",
    "        iter_error.append(rmsError)\n",
    "\n",
    "    pos_best = np.argmin(iter_error)\n",
    "    feature_order.append(idx_try[pos_best])\n",
    "    feature_error.append(iter_error[pos_best])\n",
    "\n",
    "for i in range(len(features)):\n",
    "    print (\"En el paso\", i, \"se ha insertado la variable\", features[feature_order[i]], \"con un error\", feature_error[i])"
   ]
  },
  {
   "cell_type": "code",
   "execution_count": null,
   "metadata": {},
   "outputs": [],
   "source": []
  },
  {
   "cell_type": "code",
   "execution_count": 94,
   "metadata": {},
   "outputs": [],
   "source": [
    "datos_5var = datos[['Conductor', 'NumeroDeParadasTotal', 'DistanciaRecorrida', 'Frenadas', 'PedalAcelerador']]"
   ]
  },
  {
   "cell_type": "markdown",
   "metadata": {},
   "source": [
    "Creamos el test con las mejores 5 variables\n",
    "\n",
    "X_test_analisis = datos_5var"
   ]
  },
  {
   "cell_type": "markdown",
   "metadata": {},
   "source": [
    "Creamos el train con las mejores 5 variables\n",
    "\n",
    "X_train_analisis = datos_5var"
   ]
  },
  {
   "cell_type": "code",
   "execution_count": 95,
   "metadata": {},
   "outputs": [],
   "source": [
    "# Creamos de nuevo train y tes con las 5 variables más importantes\n",
    "X_train, X_test, y_train, y_test = train_test_split(datos_5var, y, test_size = 0.2,random_state=42, stratify = y)"
   ]
  },
  {
   "cell_type": "code",
   "execution_count": 96,
   "metadata": {},
   "outputs": [
    {
     "name": "stdout",
     "output_type": "stream",
     "text": [
      "matriz de confusión\n",
      "[[40 15  1  1]\n",
      " [14 94  7  0]\n",
      " [ 0 13 74  4]\n",
      " [ 0  0  6 82]]\n",
      "accuracy\n",
      "0.8262108262108262\n",
      "precision\n",
      "0.8270485344946749\n",
      "recall\n",
      "0.8262108262108262\n",
      "f1\n",
      "0.8262493010408056\n"
     ]
    }
   ],
   "source": [
    "# creamos  el modelnadoro c con laslen mayor importancia sobre este\n",
    "modelo_6_5var = XGBClassifier().fit(X_train, y_train)\n",
    "y_pred        = modelo_6_5var.predict(X_test)\n",
    "saca_metricas(y_test, y_pred)"
   ]
  },
  {
   "cell_type": "raw",
   "metadata": {},
   "source": [
    "Logicamente algo baja, debemos observar que con la mitad de variables bajamos 7 puntos, de 89 que arroja el modelo con todas las variables a 82 con practicamente la mitad. En el munddo real con un 82 son muy buenas métricas.\n",
    "\n",
    "Vamos a oservar el resto de métricas"
   ]
  },
  {
   "cell_type": "code",
   "execution_count": 97,
   "metadata": {},
   "outputs": [
    {
     "data": {
      "text/plain": [
       "0.9646118721461188"
      ]
     },
     "execution_count": 97,
     "metadata": {},
     "output_type": "execute_result"
    }
   ],
   "source": [
    "modelo_6_5var.score(datos_5var, y)"
   ]
  },
  {
   "cell_type": "code",
   "execution_count": 98,
   "metadata": {},
   "outputs": [],
   "source": [
    "results_6_5var = cross_val_score(estimator = modelo_6_5var, X = X_train, y = y_train, cv = 5)"
   ]
  },
  {
   "cell_type": "code",
   "execution_count": 99,
   "metadata": {},
   "outputs": [
    {
     "data": {
      "text/plain": [
       "array([0.78647687, 0.825     , 0.83928571, 0.81785714, 0.825     ])"
      ]
     },
     "execution_count": 99,
     "metadata": {},
     "output_type": "execute_result"
    }
   ],
   "source": [
    "results_6_5var"
   ]
  },
  {
   "cell_type": "code",
   "execution_count": 100,
   "metadata": {},
   "outputs": [
    {
     "name": "stdout",
     "output_type": "stream",
     "text": [
      "La media de resultados de validación cruzada 5 es de : 0.8187239450940519\n"
     ]
    }
   ],
   "source": [
    "print(\"La media de resultados de validación cruzada 5 es de : \" + str(results_6_5var.mean()))"
   ]
  },
  {
   "cell_type": "code",
   "execution_count": 101,
   "metadata": {},
   "outputs": [
    {
     "name": "stdout",
     "output_type": "stream",
     "text": [
      "La desviación estándar de resultados de validación cruzada 5 es de : 0.017562399544300653\n"
     ]
    }
   ],
   "source": [
    "print(\"La desviación estándar de resultados de validación cruzada 5 es de : \" + str(results_6_5var.std()))"
   ]
  },
  {
   "cell_type": "markdown",
   "metadata": {},
   "source": [
    "####  GridSearch de parámetros para modelado de modelo XGBoost\n",
    "\n",
    "Nos mostrara como ajustar, valores óptimos los parametros propios del modelo para obtener el mejor resultado."
   ]
  },
  {
   "cell_type": "code",
   "execution_count": 102,
   "metadata": {},
   "outputs": [],
   "source": [
    "parametros = {'nthread':[4], \n",
    "              'objective':['binary:logistic'],\n",
    "              'learning_rate': [0.05], \n",
    "              'max_depth': [6],\n",
    "              'min_child_weight': [11],\n",
    "              'silent': [1],\n",
    "              'subsample': [0.8],\n",
    "              'colsample_bytree': [0.7],\n",
    "              'n_estimators': [100, 200, 500, 700, 1000], \n",
    "                           'seed': [1337]}"
   ]
  },
  {
   "cell_type": "code",
   "execution_count": 103,
   "metadata": {},
   "outputs": [],
   "source": [
    "# Aplicar el grid sobre el modelo, el scoring debemos cambiar a f1_micro por ser multiclase:\n",
    "modelo_grid = GridSearchCV(modelo_6_5var,\n",
    "                     parametros,\n",
    "                     scoring='f1_micro',\n",
    "                     cv=5,\n",
    "                     verbose=2, refit=True)"
   ]
  },
  {
   "cell_type": "code",
   "execution_count": 104,
   "metadata": {},
   "outputs": [
    {
     "name": "stdout",
     "output_type": "stream",
     "text": [
      "Fitting 5 folds for each of 5 candidates, totalling 25 fits\n",
      "[CV] colsample_bytree=0.7, learning_rate=0.05, max_depth=6, min_child_weight=11, n_estimators=100, nthread=4, objective=binary:logistic, seed=1337, silent=1, subsample=0.8 \n",
      "[13:56:55] WARNING: C:\\Users\\Administrator\\workspace\\xgboost-win64_release_1.2.0\\src\\learner.cc:516: \n",
      "Parameters: { silent } might not be used.\n",
      "\n",
      "  This may not be accurate due to some parameters are only used in language bindings but\n",
      "  passed down to XGBoost core.  Or some parameters are not used but slip through this\n",
      "  verification. Please open an issue if you find above cases.\n",
      "\n",
      "\n"
     ]
    },
    {
     "name": "stderr",
     "output_type": "stream",
     "text": [
      "[Parallel(n_jobs=1)]: Using backend SequentialBackend with 1 concurrent workers.\n"
     ]
    },
    {
     "name": "stdout",
     "output_type": "stream",
     "text": [
      "[CV]  colsample_bytree=0.7, learning_rate=0.05, max_depth=6, min_child_weight=11, n_estimators=100, nthread=4, objective=binary:logistic, seed=1337, silent=1, subsample=0.8, total=   0.4s\n",
      "[CV] colsample_bytree=0.7, learning_rate=0.05, max_depth=6, min_child_weight=11, n_estimators=100, nthread=4, objective=binary:logistic, seed=1337, silent=1, subsample=0.8 \n",
      "[13:56:56] WARNING: C:\\Users\\Administrator\\workspace\\xgboost-win64_release_1.2.0\\src\\learner.cc:516: \n",
      "Parameters: { silent } might not be used.\n",
      "\n",
      "  This may not be accurate due to some parameters are only used in language bindings but\n",
      "  passed down to XGBoost core.  Or some parameters are not used but slip through this\n",
      "  verification. Please open an issue if you find above cases.\n",
      "\n",
      "\n"
     ]
    },
    {
     "name": "stderr",
     "output_type": "stream",
     "text": [
      "[Parallel(n_jobs=1)]: Done   1 out of   1 | elapsed:    0.3s remaining:    0.0s\n"
     ]
    },
    {
     "name": "stdout",
     "output_type": "stream",
     "text": [
      "[CV]  colsample_bytree=0.7, learning_rate=0.05, max_depth=6, min_child_weight=11, n_estimators=100, nthread=4, objective=binary:logistic, seed=1337, silent=1, subsample=0.8, total=   0.3s\n",
      "[CV] colsample_bytree=0.7, learning_rate=0.05, max_depth=6, min_child_weight=11, n_estimators=100, nthread=4, objective=binary:logistic, seed=1337, silent=1, subsample=0.8 \n",
      "[13:56:56] WARNING: C:\\Users\\Administrator\\workspace\\xgboost-win64_release_1.2.0\\src\\learner.cc:516: \n",
      "Parameters: { silent } might not be used.\n",
      "\n",
      "  This may not be accurate due to some parameters are only used in language bindings but\n",
      "  passed down to XGBoost core.  Or some parameters are not used but slip through this\n",
      "  verification. Please open an issue if you find above cases.\n",
      "\n",
      "\n",
      "[CV]  colsample_bytree=0.7, learning_rate=0.05, max_depth=6, min_child_weight=11, n_estimators=100, nthread=4, objective=binary:logistic, seed=1337, silent=1, subsample=0.8, total=   0.3s\n",
      "[CV] colsample_bytree=0.7, learning_rate=0.05, max_depth=6, min_child_weight=11, n_estimators=100, nthread=4, objective=binary:logistic, seed=1337, silent=1, subsample=0.8 \n",
      "[13:56:56] WARNING: C:\\Users\\Administrator\\workspace\\xgboost-win64_release_1.2.0\\src\\learner.cc:516: \n",
      "Parameters: { silent } might not be used.\n",
      "\n",
      "  This may not be accurate due to some parameters are only used in language bindings but\n",
      "  passed down to XGBoost core.  Or some parameters are not used but slip through this\n",
      "  verification. Please open an issue if you find above cases.\n",
      "\n",
      "\n",
      "[CV]  colsample_bytree=0.7, learning_rate=0.05, max_depth=6, min_child_weight=11, n_estimators=100, nthread=4, objective=binary:logistic, seed=1337, silent=1, subsample=0.8, total=   0.3s\n",
      "[CV] colsample_bytree=0.7, learning_rate=0.05, max_depth=6, min_child_weight=11, n_estimators=100, nthread=4, objective=binary:logistic, seed=1337, silent=1, subsample=0.8 \n",
      "[13:56:57] WARNING: C:\\Users\\Administrator\\workspace\\xgboost-win64_release_1.2.0\\src\\learner.cc:516: \n",
      "Parameters: { silent } might not be used.\n",
      "\n",
      "  This may not be accurate due to some parameters are only used in language bindings but\n",
      "  passed down to XGBoost core.  Or some parameters are not used but slip through this\n",
      "  verification. Please open an issue if you find above cases.\n",
      "\n",
      "\n",
      "[CV]  colsample_bytree=0.7, learning_rate=0.05, max_depth=6, min_child_weight=11, n_estimators=100, nthread=4, objective=binary:logistic, seed=1337, silent=1, subsample=0.8, total=   0.3s\n",
      "[CV] colsample_bytree=0.7, learning_rate=0.05, max_depth=6, min_child_weight=11, n_estimators=200, nthread=4, objective=binary:logistic, seed=1337, silent=1, subsample=0.8 \n",
      "[13:56:57] WARNING: C:\\Users\\Administrator\\workspace\\xgboost-win64_release_1.2.0\\src\\learner.cc:516: \n",
      "Parameters: { silent } might not be used.\n",
      "\n",
      "  This may not be accurate due to some parameters are only used in language bindings but\n",
      "  passed down to XGBoost core.  Or some parameters are not used but slip through this\n",
      "  verification. Please open an issue if you find above cases.\n",
      "\n",
      "\n",
      "[CV]  colsample_bytree=0.7, learning_rate=0.05, max_depth=6, min_child_weight=11, n_estimators=200, nthread=4, objective=binary:logistic, seed=1337, silent=1, subsample=0.8, total=   0.5s\n",
      "[CV] colsample_bytree=0.7, learning_rate=0.05, max_depth=6, min_child_weight=11, n_estimators=200, nthread=4, objective=binary:logistic, seed=1337, silent=1, subsample=0.8 \n",
      "[13:56:57] WARNING: C:\\Users\\Administrator\\workspace\\xgboost-win64_release_1.2.0\\src\\learner.cc:516: \n",
      "Parameters: { silent } might not be used.\n",
      "\n",
      "  This may not be accurate due to some parameters are only used in language bindings but\n",
      "  passed down to XGBoost core.  Or some parameters are not used but slip through this\n",
      "  verification. Please open an issue if you find above cases.\n",
      "\n",
      "\n",
      "[CV]  colsample_bytree=0.7, learning_rate=0.05, max_depth=6, min_child_weight=11, n_estimators=200, nthread=4, objective=binary:logistic, seed=1337, silent=1, subsample=0.8, total=   0.5s\n",
      "[CV] colsample_bytree=0.7, learning_rate=0.05, max_depth=6, min_child_weight=11, n_estimators=200, nthread=4, objective=binary:logistic, seed=1337, silent=1, subsample=0.8 \n",
      "[13:56:58] WARNING: C:\\Users\\Administrator\\workspace\\xgboost-win64_release_1.2.0\\src\\learner.cc:516: \n",
      "Parameters: { silent } might not be used.\n",
      "\n",
      "  This may not be accurate due to some parameters are only used in language bindings but\n",
      "  passed down to XGBoost core.  Or some parameters are not used but slip through this\n",
      "  verification. Please open an issue if you find above cases.\n",
      "\n",
      "\n",
      "[CV]  colsample_bytree=0.7, learning_rate=0.05, max_depth=6, min_child_weight=11, n_estimators=200, nthread=4, objective=binary:logistic, seed=1337, silent=1, subsample=0.8, total=   0.5s\n",
      "[CV] colsample_bytree=0.7, learning_rate=0.05, max_depth=6, min_child_weight=11, n_estimators=200, nthread=4, objective=binary:logistic, seed=1337, silent=1, subsample=0.8 \n",
      "[13:56:59] WARNING: C:\\Users\\Administrator\\workspace\\xgboost-win64_release_1.2.0\\src\\learner.cc:516: \n",
      "Parameters: { silent } might not be used.\n",
      "\n",
      "  This may not be accurate due to some parameters are only used in language bindings but\n",
      "  passed down to XGBoost core.  Or some parameters are not used but slip through this\n",
      "  verification. Please open an issue if you find above cases.\n",
      "\n",
      "\n",
      "[CV]  colsample_bytree=0.7, learning_rate=0.05, max_depth=6, min_child_weight=11, n_estimators=200, nthread=4, objective=binary:logistic, seed=1337, silent=1, subsample=0.8, total=   0.5s\n",
      "[CV] colsample_bytree=0.7, learning_rate=0.05, max_depth=6, min_child_weight=11, n_estimators=200, nthread=4, objective=binary:logistic, seed=1337, silent=1, subsample=0.8 \n",
      "[13:56:59] WARNING: C:\\Users\\Administrator\\workspace\\xgboost-win64_release_1.2.0\\src\\learner.cc:516: \n",
      "Parameters: { silent } might not be used.\n",
      "\n",
      "  This may not be accurate due to some parameters are only used in language bindings but\n",
      "  passed down to XGBoost core.  Or some parameters are not used but slip through this\n",
      "  verification. Please open an issue if you find above cases.\n",
      "\n",
      "\n",
      "[CV]  colsample_bytree=0.7, learning_rate=0.05, max_depth=6, min_child_weight=11, n_estimators=200, nthread=4, objective=binary:logistic, seed=1337, silent=1, subsample=0.8, total=   0.5s\n",
      "[CV] colsample_bytree=0.7, learning_rate=0.05, max_depth=6, min_child_weight=11, n_estimators=500, nthread=4, objective=binary:logistic, seed=1337, silent=1, subsample=0.8 \n",
      "[13:57:00] WARNING: C:\\Users\\Administrator\\workspace\\xgboost-win64_release_1.2.0\\src\\learner.cc:516: \n",
      "Parameters: { silent } might not be used.\n",
      "\n",
      "  This may not be accurate due to some parameters are only used in language bindings but\n",
      "  passed down to XGBoost core.  Or some parameters are not used but slip through this\n",
      "  verification. Please open an issue if you find above cases.\n",
      "\n",
      "\n",
      "[CV]  colsample_bytree=0.7, learning_rate=0.05, max_depth=6, min_child_weight=11, n_estimators=500, nthread=4, objective=binary:logistic, seed=1337, silent=1, subsample=0.8, total=   1.2s\n",
      "[CV] colsample_bytree=0.7, learning_rate=0.05, max_depth=6, min_child_weight=11, n_estimators=500, nthread=4, objective=binary:logistic, seed=1337, silent=1, subsample=0.8 \n",
      "[13:57:01] WARNING: C:\\Users\\Administrator\\workspace\\xgboost-win64_release_1.2.0\\src\\learner.cc:516: \n",
      "Parameters: { silent } might not be used.\n",
      "\n",
      "  This may not be accurate due to some parameters are only used in language bindings but\n",
      "  passed down to XGBoost core.  Or some parameters are not used but slip through this\n",
      "  verification. Please open an issue if you find above cases.\n",
      "\n",
      "\n",
      "[CV]  colsample_bytree=0.7, learning_rate=0.05, max_depth=6, min_child_weight=11, n_estimators=500, nthread=4, objective=binary:logistic, seed=1337, silent=1, subsample=0.8, total=   1.1s\n",
      "[CV] colsample_bytree=0.7, learning_rate=0.05, max_depth=6, min_child_weight=11, n_estimators=500, nthread=4, objective=binary:logistic, seed=1337, silent=1, subsample=0.8 \n",
      "[13:57:02] WARNING: C:\\Users\\Administrator\\workspace\\xgboost-win64_release_1.2.0\\src\\learner.cc:516: \n",
      "Parameters: { silent } might not be used.\n",
      "\n",
      "  This may not be accurate due to some parameters are only used in language bindings but\n",
      "  passed down to XGBoost core.  Or some parameters are not used but slip through this\n",
      "  verification. Please open an issue if you find above cases.\n",
      "\n",
      "\n"
     ]
    },
    {
     "name": "stdout",
     "output_type": "stream",
     "text": [
      "[CV]  colsample_bytree=0.7, learning_rate=0.05, max_depth=6, min_child_weight=11, n_estimators=500, nthread=4, objective=binary:logistic, seed=1337, silent=1, subsample=0.8, total=   1.2s\n",
      "[CV] colsample_bytree=0.7, learning_rate=0.05, max_depth=6, min_child_weight=11, n_estimators=500, nthread=4, objective=binary:logistic, seed=1337, silent=1, subsample=0.8 \n",
      "[13:57:03] WARNING: C:\\Users\\Administrator\\workspace\\xgboost-win64_release_1.2.0\\src\\learner.cc:516: \n",
      "Parameters: { silent } might not be used.\n",
      "\n",
      "  This may not be accurate due to some parameters are only used in language bindings but\n",
      "  passed down to XGBoost core.  Or some parameters are not used but slip through this\n",
      "  verification. Please open an issue if you find above cases.\n",
      "\n",
      "\n",
      "[CV]  colsample_bytree=0.7, learning_rate=0.05, max_depth=6, min_child_weight=11, n_estimators=500, nthread=4, objective=binary:logistic, seed=1337, silent=1, subsample=0.8, total=   1.1s\n",
      "[CV] colsample_bytree=0.7, learning_rate=0.05, max_depth=6, min_child_weight=11, n_estimators=500, nthread=4, objective=binary:logistic, seed=1337, silent=1, subsample=0.8 \n",
      "[13:57:04] WARNING: C:\\Users\\Administrator\\workspace\\xgboost-win64_release_1.2.0\\src\\learner.cc:516: \n",
      "Parameters: { silent } might not be used.\n",
      "\n",
      "  This may not be accurate due to some parameters are only used in language bindings but\n",
      "  passed down to XGBoost core.  Or some parameters are not used but slip through this\n",
      "  verification. Please open an issue if you find above cases.\n",
      "\n",
      "\n",
      "[CV]  colsample_bytree=0.7, learning_rate=0.05, max_depth=6, min_child_weight=11, n_estimators=500, nthread=4, objective=binary:logistic, seed=1337, silent=1, subsample=0.8, total=   1.1s\n",
      "[CV] colsample_bytree=0.7, learning_rate=0.05, max_depth=6, min_child_weight=11, n_estimators=700, nthread=4, objective=binary:logistic, seed=1337, silent=1, subsample=0.8 \n",
      "[13:57:05] WARNING: C:\\Users\\Administrator\\workspace\\xgboost-win64_release_1.2.0\\src\\learner.cc:516: \n",
      "Parameters: { silent } might not be used.\n",
      "\n",
      "  This may not be accurate due to some parameters are only used in language bindings but\n",
      "  passed down to XGBoost core.  Or some parameters are not used but slip through this\n",
      "  verification. Please open an issue if you find above cases.\n",
      "\n",
      "\n",
      "[CV]  colsample_bytree=0.7, learning_rate=0.05, max_depth=6, min_child_weight=11, n_estimators=700, nthread=4, objective=binary:logistic, seed=1337, silent=1, subsample=0.8, total=   1.5s\n",
      "[CV] colsample_bytree=0.7, learning_rate=0.05, max_depth=6, min_child_weight=11, n_estimators=700, nthread=4, objective=binary:logistic, seed=1337, silent=1, subsample=0.8 \n",
      "[13:57:07] WARNING: C:\\Users\\Administrator\\workspace\\xgboost-win64_release_1.2.0\\src\\learner.cc:516: \n",
      "Parameters: { silent } might not be used.\n",
      "\n",
      "  This may not be accurate due to some parameters are only used in language bindings but\n",
      "  passed down to XGBoost core.  Or some parameters are not used but slip through this\n",
      "  verification. Please open an issue if you find above cases.\n",
      "\n",
      "\n",
      "[CV]  colsample_bytree=0.7, learning_rate=0.05, max_depth=6, min_child_weight=11, n_estimators=700, nthread=4, objective=binary:logistic, seed=1337, silent=1, subsample=0.8, total=   1.5s\n",
      "[CV] colsample_bytree=0.7, learning_rate=0.05, max_depth=6, min_child_weight=11, n_estimators=700, nthread=4, objective=binary:logistic, seed=1337, silent=1, subsample=0.8 \n",
      "[13:57:08] WARNING: C:\\Users\\Administrator\\workspace\\xgboost-win64_release_1.2.0\\src\\learner.cc:516: \n",
      "Parameters: { silent } might not be used.\n",
      "\n",
      "  This may not be accurate due to some parameters are only used in language bindings but\n",
      "  passed down to XGBoost core.  Or some parameters are not used but slip through this\n",
      "  verification. Please open an issue if you find above cases.\n",
      "\n",
      "\n",
      "[CV]  colsample_bytree=0.7, learning_rate=0.05, max_depth=6, min_child_weight=11, n_estimators=700, nthread=4, objective=binary:logistic, seed=1337, silent=1, subsample=0.8, total=   1.5s\n",
      "[CV] colsample_bytree=0.7, learning_rate=0.05, max_depth=6, min_child_weight=11, n_estimators=700, nthread=4, objective=binary:logistic, seed=1337, silent=1, subsample=0.8 \n",
      "[13:57:10] WARNING: C:\\Users\\Administrator\\workspace\\xgboost-win64_release_1.2.0\\src\\learner.cc:516: \n",
      "Parameters: { silent } might not be used.\n",
      "\n",
      "  This may not be accurate due to some parameters are only used in language bindings but\n",
      "  passed down to XGBoost core.  Or some parameters are not used but slip through this\n",
      "  verification. Please open an issue if you find above cases.\n",
      "\n",
      "\n",
      "[CV]  colsample_bytree=0.7, learning_rate=0.05, max_depth=6, min_child_weight=11, n_estimators=700, nthread=4, objective=binary:logistic, seed=1337, silent=1, subsample=0.8, total=   1.5s\n",
      "[CV] colsample_bytree=0.7, learning_rate=0.05, max_depth=6, min_child_weight=11, n_estimators=700, nthread=4, objective=binary:logistic, seed=1337, silent=1, subsample=0.8 \n",
      "[13:57:11] WARNING: C:\\Users\\Administrator\\workspace\\xgboost-win64_release_1.2.0\\src\\learner.cc:516: \n",
      "Parameters: { silent } might not be used.\n",
      "\n",
      "  This may not be accurate due to some parameters are only used in language bindings but\n",
      "  passed down to XGBoost core.  Or some parameters are not used but slip through this\n",
      "  verification. Please open an issue if you find above cases.\n",
      "\n",
      "\n",
      "[CV]  colsample_bytree=0.7, learning_rate=0.05, max_depth=6, min_child_weight=11, n_estimators=700, nthread=4, objective=binary:logistic, seed=1337, silent=1, subsample=0.8, total=   1.5s\n",
      "[CV] colsample_bytree=0.7, learning_rate=0.05, max_depth=6, min_child_weight=11, n_estimators=1000, nthread=4, objective=binary:logistic, seed=1337, silent=1, subsample=0.8 \n",
      "[13:57:13] WARNING: C:\\Users\\Administrator\\workspace\\xgboost-win64_release_1.2.0\\src\\learner.cc:516: \n",
      "Parameters: { silent } might not be used.\n",
      "\n",
      "  This may not be accurate due to some parameters are only used in language bindings but\n",
      "  passed down to XGBoost core.  Or some parameters are not used but slip through this\n",
      "  verification. Please open an issue if you find above cases.\n",
      "\n",
      "\n",
      "[CV]  colsample_bytree=0.7, learning_rate=0.05, max_depth=6, min_child_weight=11, n_estimators=1000, nthread=4, objective=binary:logistic, seed=1337, silent=1, subsample=0.8, total=   2.1s\n",
      "[CV] colsample_bytree=0.7, learning_rate=0.05, max_depth=6, min_child_weight=11, n_estimators=1000, nthread=4, objective=binary:logistic, seed=1337, silent=1, subsample=0.8 \n",
      "[13:57:15] WARNING: C:\\Users\\Administrator\\workspace\\xgboost-win64_release_1.2.0\\src\\learner.cc:516: \n",
      "Parameters: { silent } might not be used.\n",
      "\n",
      "  This may not be accurate due to some parameters are only used in language bindings but\n",
      "  passed down to XGBoost core.  Or some parameters are not used but slip through this\n",
      "  verification. Please open an issue if you find above cases.\n",
      "\n",
      "\n",
      "[CV]  colsample_bytree=0.7, learning_rate=0.05, max_depth=6, min_child_weight=11, n_estimators=1000, nthread=4, objective=binary:logistic, seed=1337, silent=1, subsample=0.8, total=   2.1s\n",
      "[CV] colsample_bytree=0.7, learning_rate=0.05, max_depth=6, min_child_weight=11, n_estimators=1000, nthread=4, objective=binary:logistic, seed=1337, silent=1, subsample=0.8 \n",
      "[13:57:17] WARNING: C:\\Users\\Administrator\\workspace\\xgboost-win64_release_1.2.0\\src\\learner.cc:516: \n",
      "Parameters: { silent } might not be used.\n",
      "\n",
      "  This may not be accurate due to some parameters are only used in language bindings but\n",
      "  passed down to XGBoost core.  Or some parameters are not used but slip through this\n",
      "  verification. Please open an issue if you find above cases.\n",
      "\n",
      "\n",
      "[CV]  colsample_bytree=0.7, learning_rate=0.05, max_depth=6, min_child_weight=11, n_estimators=1000, nthread=4, objective=binary:logistic, seed=1337, silent=1, subsample=0.8, total=   2.1s\n",
      "[CV] colsample_bytree=0.7, learning_rate=0.05, max_depth=6, min_child_weight=11, n_estimators=1000, nthread=4, objective=binary:logistic, seed=1337, silent=1, subsample=0.8 \n",
      "[13:57:19] WARNING: C:\\Users\\Administrator\\workspace\\xgboost-win64_release_1.2.0\\src\\learner.cc:516: \n",
      "Parameters: { silent } might not be used.\n",
      "\n",
      "  This may not be accurate due to some parameters are only used in language bindings but\n",
      "  passed down to XGBoost core.  Or some parameters are not used but slip through this\n",
      "  verification. Please open an issue if you find above cases.\n",
      "\n",
      "\n"
     ]
    },
    {
     "name": "stdout",
     "output_type": "stream",
     "text": [
      "[CV]  colsample_bytree=0.7, learning_rate=0.05, max_depth=6, min_child_weight=11, n_estimators=1000, nthread=4, objective=binary:logistic, seed=1337, silent=1, subsample=0.8, total=   2.1s\n",
      "[CV] colsample_bytree=0.7, learning_rate=0.05, max_depth=6, min_child_weight=11, n_estimators=1000, nthread=4, objective=binary:logistic, seed=1337, silent=1, subsample=0.8 \n",
      "[13:57:21] WARNING: C:\\Users\\Administrator\\workspace\\xgboost-win64_release_1.2.0\\src\\learner.cc:516: \n",
      "Parameters: { silent } might not be used.\n",
      "\n",
      "  This may not be accurate due to some parameters are only used in language bindings but\n",
      "  passed down to XGBoost core.  Or some parameters are not used but slip through this\n",
      "  verification. Please open an issue if you find above cases.\n",
      "\n",
      "\n",
      "[CV]  colsample_bytree=0.7, learning_rate=0.05, max_depth=6, min_child_weight=11, n_estimators=1000, nthread=4, objective=binary:logistic, seed=1337, silent=1, subsample=0.8, total=   2.1s\n",
      "[13:57:24] WARNING: C:\\Users\\Administrator\\workspace\\xgboost-win64_release_1.2.0\\src\\learner.cc:516: \n",
      "Parameters: { silent } might not be used.\n",
      "\n",
      "  This may not be accurate due to some parameters are only used in language bindings but\n",
      "  passed down to XGBoost core.  Or some parameters are not used but slip through this\n",
      "  verification. Please open an issue if you find above cases.\n",
      "\n",
      "\n"
     ]
    },
    {
     "name": "stderr",
     "output_type": "stream",
     "text": [
      "[Parallel(n_jobs=1)]: Done  25 out of  25 | elapsed:   28.0s finished\n"
     ]
    },
    {
     "data": {
      "text/plain": [
       "GridSearchCV(cv=5,\n",
       "             estimator=XGBClassifier(base_score=0.5, booster='gbtree',\n",
       "                                     colsample_bylevel=1, colsample_bynode=1,\n",
       "                                     colsample_bytree=1, gamma=0, gpu_id=-1,\n",
       "                                     importance_type='gain',\n",
       "                                     interaction_constraints='',\n",
       "                                     learning_rate=0.300000012,\n",
       "                                     max_delta_step=0, max_depth=6,\n",
       "                                     min_child_weight=1, missing=nan,\n",
       "                                     monotone_constraints='()',\n",
       "                                     n_estimators=100, n_jobs=0,\n",
       "                                     num_parallel...\n",
       "                                     scale_pos_weight=None, subsample=1,\n",
       "                                     tree_method='exact', validate_parameters=1,\n",
       "                                     verbosity=None),\n",
       "             param_grid={'colsample_bytree': [0.7], 'learning_rate': [0.05],\n",
       "                         'max_depth': [6], 'min_child_weight': [11],\n",
       "                         'n_estimators': [100, 200, 500, 700, 1000],\n",
       "                         'nthread': [4], 'objective': ['binary:logistic'],\n",
       "                         'seed': [1337], 'silent': [1], 'subsample': [0.8]},\n",
       "             scoring='f1_micro', verbose=2)"
      ]
     },
     "execution_count": 104,
     "metadata": {},
     "output_type": "execute_result"
    }
   ],
   "source": [
    "# Aplicamos los mejores resultados del grid sobre el data train:\n",
    "modelo_grid.fit(datos_5var, y)"
   ]
  },
  {
   "cell_type": "code",
   "execution_count": 105,
   "metadata": {},
   "outputs": [
    {
     "name": "stdout",
     "output_type": "stream",
     "text": [
      "{'colsample_bytree': 0.7, 'learning_rate': 0.05, 'max_depth': 6, 'min_child_weight': 11, 'n_estimators': 500, 'nthread': 4, 'objective': 'binary:logistic', 'seed': 1337, 'silent': 1, 'subsample': 0.8}\n"
     ]
    }
   ],
   "source": [
    "print(modelo_grid.best_params_)"
   ]
  },
  {
   "cell_type": "code",
   "execution_count": 106,
   "metadata": {},
   "outputs": [
    {
     "name": "stdout",
     "output_type": "stream",
     "text": [
      "0.8081986161986162\n"
     ]
    }
   ],
   "source": [
    "print(modelo_grid.best_score_)"
   ]
  },
  {
   "cell_type": "markdown",
   "metadata": {},
   "source": [
    "#### Generamos predicciones sobre test"
   ]
  },
  {
   "cell_type": "code",
   "execution_count": 107,
   "metadata": {},
   "outputs": [
    {
     "name": "stdout",
     "output_type": "stream",
     "text": [
      "[13:57:25] WARNING: C:\\Users\\Administrator\\workspace\\xgboost-win64_release_1.2.0\\src\\learner.cc:516: \n",
      "Parameters: { silent } might not be used.\n",
      "\n",
      "  This may not be accurate due to some parameters are only used in language bindings but\n",
      "  passed down to XGBoost core.  Or some parameters are not used but slip through this\n",
      "  verification. Please open an issue if you find above cases.\n",
      "\n",
      "\n",
      "matriz de confusión\n",
      "[[44 12  1  0]\n",
      " [11 97  7  0]\n",
      " [ 0 11 78  2]\n",
      " [ 0  0  5 83]]\n",
      "accuracy\n",
      "0.8603988603988604\n",
      "precision\n",
      "0.8617884475727613\n",
      "recall\n",
      "0.8603988603988604\n",
      "f1\n",
      "0.8608580936092928\n"
     ]
    }
   ],
   "source": [
    "best_param_modelo_6_5var = XGBClassifier(colsample_bytree= 0.7, \n",
    "                                         learning_rate= 0.05, \n",
    "                                         max_depth= 6, \n",
    "                                         min_child_weight= 11, \n",
    "                                         n_estimators= 500, \n",
    "                                         nthread= 4, \n",
    "                                         objective= 'binary:logistic', \n",
    "                                         seed= 1337, \n",
    "                                         silent= 1, \n",
    "                                         subsample= 0.8).fit(X_train, y_train)\n",
    "y_pred        = best_param_modelo_6_5var.predict(X_test)\n",
    "saca_metricas(y_test, y_pred)"
   ]
  },
  {
   "cell_type": "markdown",
   "metadata": {},
   "source": [
    "El parámetro silent = 1, en la primera ejecución nos arroja un mensaje advirtiendonos de no utilizarlo, por lo que finalmente aparece comentado"
   ]
  },
  {
   "cell_type": "markdown",
   "metadata": {},
   "source": [
    "### Conclusión\n",
    "\n",
    "Faltaría utilizar el el modelo sobre datos nuevos para  que nos dijese la probabilidad del consumo de combustible, donde se situaría en las 4 clases que tenemos en la variable objbetivo.\n",
    "\n",
    "Para esto generaríamos la predicción sobre datos nuevos, utilizando **predict_proba**."
   ]
  }
 ],
 "metadata": {
  "kernelspec": {
   "display_name": "Python 3",
   "language": "python",
   "name": "python3"
  },
  "language_info": {
   "codemirror_mode": {
    "name": "ipython",
    "version": 3
   },
   "file_extension": ".py",
   "mimetype": "text/x-python",
   "name": "python",
   "nbconvert_exporter": "python",
   "pygments_lexer": "ipython3",
   "version": "3.7.7"
  }
 },
 "nbformat": 4,
 "nbformat_minor": 2
}
